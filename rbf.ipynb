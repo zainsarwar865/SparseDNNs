{
 "cells": [
  {
   "cell_type": "code",
   "execution_count": 1,
   "metadata": {},
   "outputs": [],
   "source": [
    "import os\n",
    "os.environ[\"CUDA_VISIBLE_DEVICES\"]=\"1\""
   ]
  },
  {
   "cell_type": "code",
   "execution_count": 2,
   "metadata": {},
   "outputs": [],
   "source": [
    "from collections import defaultdict\n",
    "import pickle\n",
    "import torch\n",
    "from sklearn.gaussian_process.kernels import RBF\n",
    "from sklearn.svm import SVC\n",
    "import numpy as np\n",
    "import pandas as pd\n",
    "from sklearn.svm import OneClassSVM\n",
    "import torchvision"
   ]
  },
  {
   "cell_type": "code",
   "execution_count": 3,
   "metadata": {},
   "outputs": [],
   "source": [
    "def load_data(path, label):\n",
    "    with open(path, 'rb') as iffile:\n",
    "        features = pickle.load(iffile)\n",
    "    layer = 'flatten'\n",
    "    features = features[layer]\n",
    "    features_matrix = None\n",
    "\n",
    "    for i in range(len(features)):\n",
    "        if isinstance(features_matrix, torch.Tensor):\n",
    "            features_matrix = torch.cat((features_matrix, features[i]))\n",
    "        else:\n",
    "            features_matrix = features[i]\n",
    "\n",
    "    features = None    \n",
    "    features_matrix = torch.flatten(features_matrix, start_dim=1, end_dim=-1)\n",
    "    y = np.empty(features_matrix.shape[0])\n",
    "    y.fill(label)\n",
    "    return [features_matrix, y]\n"
   ]
  },
  {
   "cell_type": "code",
   "execution_count": 10,
   "metadata": {},
   "outputs": [],
   "source": [
    "def unison_shuffled_copies(x_ben, y_ben, x_adv, y_adv):\n",
    "    X = np.concatenate((x_ben, x_adv), axis=0)\n",
    "    y = np.concatenate((y_ben, y_adv), axis=0)\n",
    "    assert len(X) == len(y)\n",
    "    p = np.random.permutation(len(X))\n",
    "    return X[p], y[p]"
   ]
  },
  {
   "cell_type": "code",
   "execution_count": 11,
   "metadata": {},
   "outputs": [],
   "source": [
    "base_path = \"/bigstor/zsarwar/SparseDNNs/MT_CIFAR10_full_10_d5f3f545a0883adb9c8f98e2a6ba4ac7/MT_Baseline_d2a45a4dd02a5e037e5954b82387e666\"\n",
    "def get_paths(base_path, attack_type):\n",
    "    relu_dir = \"ReLUs\"\n",
    "    train_benign = f\"ReLUs_{attack_type}_train_benign.pkl\"\n",
    "    train_adversarial = f\"ReLUs_{attack_type}_train_adversarial.pkl\"\n",
    "    test_benign = f\"ReLUs_{attack_type}_test_benign.pkl\"\n",
    "    test_adversarial = f\"ReLUs_{attack_type}_test_adversarial.pkl\"\n",
    "\n",
    "    train_benign = os.path.join(base_path, relu_dir, train_benign)\n",
    "    train_adversarial = os.path.join(base_path, relu_dir,  train_adversarial)\n",
    "    test_benign = os.path.join(base_path,  relu_dir, test_benign)\n",
    "    test_adversarial = os.path.join(base_path,  relu_dir, test_adversarial)\n",
    "\n",
    "    all_paths = [train_benign,train_adversarial,test_benign,test_adversarial]\n",
    "\n",
    "    return all_paths\n"
   ]
  },
  {
   "cell_type": "code",
   "execution_count": 12,
   "metadata": {},
   "outputs": [],
   "source": [
    "attack_type=\"DeepFool\"\n",
    "train_benign,train_adversarial,test_benign,test_adversarial = get_paths(base_path, attack_type)"
   ]
  },
  {
   "cell_type": "code",
   "execution_count": 13,
   "metadata": {},
   "outputs": [],
   "source": [
    "train_benign = load_data(train_benign, 1)\n",
    "train_adversarial = load_data(train_adversarial, 0)\n",
    "test_benign = load_data(test_benign, 1)\n",
    "test_adversarial = load_data(test_adversarial, 0)"
   ]
  },
  {
   "cell_type": "code",
   "execution_count": 14,
   "metadata": {},
   "outputs": [],
   "source": [
    "min_train = min(train_benign[0].shape[0], train_adversarial[0].shape[0])\n",
    "min_test = min(test_benign[0].shape[0], test_adversarial[0].shape[0])"
   ]
  },
  {
   "cell_type": "code",
   "execution_count": 15,
   "metadata": {},
   "outputs": [],
   "source": [
    "# Subsample the larger sets\n",
    "\n",
    "rand_indices = np.random.choice(train_benign[0].shape[0], size=min_train, replace=False)\n",
    "train_benign[0] = train_benign[0][rand_indices] \n",
    "train_benign[1] = train_benign[1][rand_indices]\n",
    "\n",
    "rand_indices = np.random.choice(test_benign[0].shape[0], size=min_test, replace=False)\n",
    "test_benign[0] = test_benign[0][rand_indices] \n",
    "test_benign[1] = test_benign[1][rand_indices]\n"
   ]
  },
  {
   "cell_type": "code",
   "execution_count": 20,
   "metadata": {},
   "outputs": [],
   "source": [
    "X_train, y_train = unison_shuffled_copies(train_benign[0], train_benign[1], train_adversarial[0], train_adversarial[1])\n",
    "\n",
    "X_test, y_test = unison_shuffled_copies(test_benign[0], test_benign[1], test_adversarial[0], test_adversarial[1])\n"
   ]
  },
  {
   "cell_type": "code",
   "execution_count": 23,
   "metadata": {},
   "outputs": [
    {
     "data": {
      "text/html": [
       "<style>#sk-container-id-1 {color: black;background-color: white;}#sk-container-id-1 pre{padding: 0;}#sk-container-id-1 div.sk-toggleable {background-color: white;}#sk-container-id-1 label.sk-toggleable__label {cursor: pointer;display: block;width: 100%;margin-bottom: 0;padding: 0.3em;box-sizing: border-box;text-align: center;}#sk-container-id-1 label.sk-toggleable__label-arrow:before {content: \"▸\";float: left;margin-right: 0.25em;color: #696969;}#sk-container-id-1 label.sk-toggleable__label-arrow:hover:before {color: black;}#sk-container-id-1 div.sk-estimator:hover label.sk-toggleable__label-arrow:before {color: black;}#sk-container-id-1 div.sk-toggleable__content {max-height: 0;max-width: 0;overflow: hidden;text-align: left;background-color: #f0f8ff;}#sk-container-id-1 div.sk-toggleable__content pre {margin: 0.2em;color: black;border-radius: 0.25em;background-color: #f0f8ff;}#sk-container-id-1 input.sk-toggleable__control:checked~div.sk-toggleable__content {max-height: 200px;max-width: 100%;overflow: auto;}#sk-container-id-1 input.sk-toggleable__control:checked~label.sk-toggleable__label-arrow:before {content: \"▾\";}#sk-container-id-1 div.sk-estimator input.sk-toggleable__control:checked~label.sk-toggleable__label {background-color: #d4ebff;}#sk-container-id-1 div.sk-label input.sk-toggleable__control:checked~label.sk-toggleable__label {background-color: #d4ebff;}#sk-container-id-1 input.sk-hidden--visually {border: 0;clip: rect(1px 1px 1px 1px);clip: rect(1px, 1px, 1px, 1px);height: 1px;margin: -1px;overflow: hidden;padding: 0;position: absolute;width: 1px;}#sk-container-id-1 div.sk-estimator {font-family: monospace;background-color: #f0f8ff;border: 1px dotted black;border-radius: 0.25em;box-sizing: border-box;margin-bottom: 0.5em;}#sk-container-id-1 div.sk-estimator:hover {background-color: #d4ebff;}#sk-container-id-1 div.sk-parallel-item::after {content: \"\";width: 100%;border-bottom: 1px solid gray;flex-grow: 1;}#sk-container-id-1 div.sk-label:hover label.sk-toggleable__label {background-color: #d4ebff;}#sk-container-id-1 div.sk-serial::before {content: \"\";position: absolute;border-left: 1px solid gray;box-sizing: border-box;top: 0;bottom: 0;left: 50%;z-index: 0;}#sk-container-id-1 div.sk-serial {display: flex;flex-direction: column;align-items: center;background-color: white;padding-right: 0.2em;padding-left: 0.2em;position: relative;}#sk-container-id-1 div.sk-item {position: relative;z-index: 1;}#sk-container-id-1 div.sk-parallel {display: flex;align-items: stretch;justify-content: center;background-color: white;position: relative;}#sk-container-id-1 div.sk-item::before, #sk-container-id-1 div.sk-parallel-item::before {content: \"\";position: absolute;border-left: 1px solid gray;box-sizing: border-box;top: 0;bottom: 0;left: 50%;z-index: -1;}#sk-container-id-1 div.sk-parallel-item {display: flex;flex-direction: column;z-index: 1;position: relative;background-color: white;}#sk-container-id-1 div.sk-parallel-item:first-child::after {align-self: flex-end;width: 50%;}#sk-container-id-1 div.sk-parallel-item:last-child::after {align-self: flex-start;width: 50%;}#sk-container-id-1 div.sk-parallel-item:only-child::after {width: 0;}#sk-container-id-1 div.sk-dashed-wrapped {border: 1px dashed gray;margin: 0 0.4em 0.5em 0.4em;box-sizing: border-box;padding-bottom: 0.4em;background-color: white;}#sk-container-id-1 div.sk-label label {font-family: monospace;font-weight: bold;display: inline-block;line-height: 1.2em;}#sk-container-id-1 div.sk-label-container {text-align: center;}#sk-container-id-1 div.sk-container {/* jupyter's `normalize.less` sets `[hidden] { display: none; }` but bootstrap.min.css set `[hidden] { display: none !important; }` so we also need the `!important` here to be able to override the default hidden behavior on the sphinx rendered scikit-learn.org. See: https://github.com/scikit-learn/scikit-learn/issues/21755 */display: inline-block !important;position: relative;}#sk-container-id-1 div.sk-text-repr-fallback {display: none;}</style><div id=\"sk-container-id-1\" class=\"sk-top-container\"><div class=\"sk-text-repr-fallback\"><pre>SVC(C=0.7, gamma=0.075)</pre><b>In a Jupyter environment, please rerun this cell to show the HTML representation or trust the notebook. <br />On GitHub, the HTML representation is unable to render, please try loading this page with nbviewer.org.</b></div><div class=\"sk-container\" hidden><div class=\"sk-item\"><div class=\"sk-estimator sk-toggleable\"><input class=\"sk-toggleable__control sk-hidden--visually\" id=\"sk-estimator-id-1\" type=\"checkbox\" checked><label for=\"sk-estimator-id-1\" class=\"sk-toggleable__label sk-toggleable__label-arrow\">SVC</label><div class=\"sk-toggleable__content\"><pre>SVC(C=0.7, gamma=0.075)</pre></div></div></div></div></div>"
      ],
      "text/plain": [
       "SVC(C=0.7, gamma=0.075)"
      ]
     },
     "execution_count": 23,
     "metadata": {},
     "output_type": "execute_result"
    }
   ],
   "source": [
    "from sklearn.model_selection import GridSearchCV, StratifiedShuffleSplit\n",
    "from sklearn.svm import SVC\n",
    "\n",
    "clf = SVC(C=0.7, gamma=0.075)\n",
    "clf.fit(X_train, y_train)"
   ]
  },
  {
   "cell_type": "code",
   "execution_count": 31,
   "metadata": {},
   "outputs": [],
   "source": [
    "# Testing\n",
    "x_train_pred = clf.predict(X_train)\n",
    "train_acc = len(np.where(x_train_pred == y_train)[0]) / len(X_train)\n",
    "\n",
    "x_test_pred = clf.predict(X_test)\n",
    "test_acc = len(np.where(x_test_pred == y_test)[0]) / len(X_test)\n",
    "\n",
    "print(\"Training acc : \", train_acc)\n",
    "print(\"Test acc : \", test_acc)"
   ]
  },
  {
   "cell_type": "code",
   "execution_count": 36,
   "metadata": {},
   "outputs": [],
   "source": [
    "# Test classwise\n",
    "x_train_ben_pred = clf.predict(train_benign[0])\n",
    "train_ben_acc = len(np.where(x_train_ben_pred == train_benign[1])[0]) / len(x_train_ben_pred)\n",
    "\n",
    "x_train_adv_pred = clf.predict(train_adversarial[0])\n",
    "train_adv_acc = len(np.where(x_train_adv_pred == train_adversarial[1])[0]) / len(x_train_adv_pred)\n",
    "\n",
    "\n",
    "\n",
    "\n",
    "x_test_ben_pred = clf.predict(test_benign[0])\n",
    "test_ben_acc = len(np.where(x_test_ben_pred == test_benign[1])[0]) / len(x_test_ben_pred)\n",
    "\n",
    "\n",
    "x_test_adv_pred = clf.predict(test_adversarial[0])\n",
    "test_adv_acc = len(np.where(x_test_adv_pred == test_adversarial[1])[0]) / len(x_test_adv_pred)\n"
   ]
  },
  {
   "cell_type": "code",
   "execution_count": 37,
   "metadata": {},
   "outputs": [
    {
     "name": "stdout",
     "output_type": "stream",
     "text": [
      "Training benign acc :  0.958984375\n",
      "Training adversarial acc :  0.9421875\n",
      "-------------------------------------\n",
      "Testing benign acc :  0.8876953125\n",
      "Testing adversarial acc :  0.9466796875\n"
     ]
    }
   ],
   "source": [
    "print(\"Training benign acc : \", train_ben_acc)\n",
    "print(\"Training adversarial acc : \", train_adv_acc)\n",
    "print(\"-------------------------------------\")\n",
    "print(\"Testing benign acc : \", test_ben_acc)\n",
    "print(\"Testing adversarial acc : \", test_adv_acc)"
   ]
  },
  {
   "cell_type": "code",
   "execution_count": null,
   "metadata": {},
   "outputs": [],
   "source": []
  }
 ],
 "metadata": {
  "kernelspec": {
   "display_name": "ffcv",
   "language": "python",
   "name": "python3"
  },
  "language_info": {
   "codemirror_mode": {
    "name": "ipython",
    "version": 3
   },
   "file_extension": ".py",
   "mimetype": "text/x-python",
   "name": "python",
   "nbconvert_exporter": "python",
   "pygments_lexer": "ipython3",
   "version": "3.9.16"
  }
 },
 "nbformat": 4,
 "nbformat_minor": 2
}
