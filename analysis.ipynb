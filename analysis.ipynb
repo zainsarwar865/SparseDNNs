{
 "cells": [
  {
   "cell_type": "code",
   "execution_count": null,
   "metadata": {},
   "outputs": [],
   "source": [
    "import numpy as np\n",
    "import pandas as pd\n",
    "import matplotlib.pyplot as plt\n",
    "import torchvision\n",
    "import pickle\n",
    "import torch\n",
    "import os\n"
   ]
  },
  {
   "cell_type": "markdown",
   "metadata": {},
   "source": [
    "# Visualize"
   ]
  },
  {
   "cell_type": "code",
   "execution_count": null,
   "metadata": {},
   "outputs": [],
   "source": [
    "import matplotlib.pyplot as plt\n",
    "\n",
    "def plot_side_by_side(image1, image2, image3, idx, save_path, titles=None):\n",
    "    \"\"\"\n",
    "    Plots three images side by side.\n",
    "\n",
    "    Args:\n",
    "        image1 (np.ndarray): The first image.\n",
    "        image2 (np.ndarray): The second image.\n",
    "        image3 (np.ndarray): The third image.\n",
    "        titles (list, optional): A list of titles for the images.\n",
    "\n",
    "    Returns:\n",
    "        None\n",
    "    \"\"\"\n",
    "\n",
    "    fig, axes = plt.subplots(1, 3, figsize=(15, 5))\n",
    "\n",
    "    axes[0].imshow(image1)\n",
    "    axes[0].axis('off')\n",
    "    axes[1].imshow(image2)\n",
    "    axes[1].axis('off')\n",
    "    axes[2].imshow(image3)\n",
    "    axes[2].axis('off')\n",
    "    \n",
    "    if titles is not None:\n",
    "        axes[0].set_title(titles[0])\n",
    "        \n",
    "        axes[1].set_title(titles[1])\n",
    "        axes[2].set_title(titles[2])\n",
    "\n",
    "    plt.tight_layout()\n",
    "    \n",
    "    if save_path is not None:\n",
    "        filename = os.path.join(save_path, f\"{idx}.jpg\")\n",
    "        plt.savefig(filename)\n",
    "\n",
    "\n",
    "    plt.show()"
   ]
  },
  {
   "cell_type": "code",
   "execution_count": null,
   "metadata": {},
   "outputs": [],
   "source": [
    "def get_pred(model, images, device):\n",
    "    logits = model(images.to(device))\n",
    "    _, pres = logits.max(dim=1)\n",
    "    return pres.cpu()\n",
    "\n",
    "def imshow(img, title):\n",
    "    img = torchvision.utils.make_grid(img.cpu().data, normalize=True)\n",
    "    npimg = img.numpy()\n",
    "    fig = plt.figure(figsize = (5, 15))\n",
    "    plt.imshow(np.transpose(npimg,(1,2,0)))\n",
    "    plt.title(title)\n",
    "    plt.show()\n"
   ]
  },
  {
   "cell_type": "markdown",
   "metadata": {},
   "source": [
    "# WideResNet"
   ]
  },
  {
   "cell_type": "markdown",
   "metadata": {},
   "source": [
    "# Regular"
   ]
  },
  {
   "cell_type": "code",
   "execution_count": null,
   "metadata": {},
   "outputs": [],
   "source": [
    "images_cw_base = \"/bigstor/zsarwar/SparseDNNs/MT_CIFAR10_full_10_d5f3f545a0883adb9c8f98e2a6ba4ac7/MT_Baseline_64532bf03dea249a46b41a734c5fc63b/Adversarial_Datasets/CW_adv_samples_5120_test_detector-type-Regular_integrated-False.pickle\"\n",
    "images_cw_rbf = \"/bigstor/zsarwar/SparseDNNs/MT_CIFAR10_full_10_d5f3f545a0883adb9c8f98e2a6ba4ac7/MT_Baseline_64532bf03dea249a46b41a734c5fc63b/Adversarial_Datasets/CW_adv_samples_5120_test_detector-type-Regular_integrated-True.pickle\"\n",
    "images_benign_base = \"/bigstor/zsarwar/SparseDNNs/MT_CIFAR10_full_10_d5f3f545a0883adb9c8f98e2a6ba4ac7/MT_Baseline_64532bf03dea249a46b41a734c5fc63b/Benign_Datasets/CW_benign_samples_5120_test_detector-type-Regular_integrated-True.pickle\""
   ]
  },
  {
   "cell_type": "code",
   "execution_count": null,
   "metadata": {},
   "outputs": [],
   "source": [
    "with open(images_cw_base, 'rb') as in_file:\n",
    "    images_cw_base = pickle.load(in_file)\n",
    "\n",
    "with open(images_cw_rbf, 'rb') as in_file:\n",
    "    images_cw_rbf = pickle.load(in_file)\n",
    "\n",
    "with open(images_benign_base, 'rb') as in_file:\n",
    "    images_benign_base = pickle.load(in_file)"
   ]
  },
  {
   "cell_type": "code",
   "execution_count": null,
   "metadata": {},
   "outputs": [],
   "source": [
    "idx = 6"
   ]
  },
  {
   "cell_type": "code",
   "execution_count": null,
   "metadata": {},
   "outputs": [],
   "source": [
    "imshow(images_cw_base[0][idx], title=images_cw_base[1][idx].item())"
   ]
  },
  {
   "cell_type": "code",
   "execution_count": null,
   "metadata": {},
   "outputs": [],
   "source": [
    "\n",
    "imshow(images_cw_rbf[0][idx], title=images_cw_rbf[1][idx].item())"
   ]
  },
  {
   "cell_type": "code",
   "execution_count": null,
   "metadata": {},
   "outputs": [],
   "source": [
    "imshow(images_benign_base[0][idx], title=images_benign_base[1][idx].item())"
   ]
  },
  {
   "cell_type": "markdown",
   "metadata": {},
   "source": [
    "# Analyze ReLUs"
   ]
  },
  {
   "cell_type": "code",
   "execution_count": null,
   "metadata": {},
   "outputs": [],
   "source": [
    "\n",
    "def load_data(path, label):\n",
    "    features_matrix = torch.load(path)\n",
    "    y = np.empty(features_matrix.shape[0])\n",
    "    y.fill(label)\n",
    "    return [features_matrix, y]\n"
   ]
  },
  {
   "cell_type": "code",
   "execution_count": null,
   "metadata": {},
   "outputs": [],
   "source": [
    "features_path = \"/bigstor/zsarwar/SparseDNNs/MT_CIFAR10_full_10_d5f3f545a0883adb9c8f98e2a6ba4ac7/MT_Baseline_64532bf03dea249a46b41a734c5fc63b/ReLUs/ReLUs_CW_test_adversarial_5120_detector-type-Regular_integrated-True.pth\"\n",
    "\n",
    "features = load_data(features_path, -1)"
   ]
  },
  {
   "cell_type": "markdown",
   "metadata": {},
   "source": [
    "### Indeed, the features are RELUd"
   ]
  },
  {
   "cell_type": "markdown",
   "metadata": {},
   "source": [
    "#### TODO \n",
    "Which version of resnet are they using?\n",
    "\n",
    "What's the E-ball size below?\n",
    "\n",
    "What are some standard eball sizes? CW BPDA paper\n",
    "\n",
    "Report normalized l2 dissimilarity "
   ]
  },
  {
   "cell_type": "markdown",
   "metadata": {},
   "source": [
    "# Compute pixel-wise metrics\n"
   ]
  },
  {
   "cell_type": "code",
   "execution_count": null,
   "metadata": {},
   "outputs": [],
   "source": [
    "import torch.nn as nn"
   ]
  },
  {
   "cell_type": "code",
   "execution_count": null,
   "metadata": {},
   "outputs": [],
   "source": [
    "MSELoss = nn.MSELoss(reduction='mean')\n",
    "flatten = nn.Flatten()"
   ]
  },
  {
   "cell_type": "code",
   "execution_count": null,
   "metadata": {},
   "outputs": [],
   "source": [
    "l2_loss_base = MSELoss(flatten(images_cw_base[0]), flatten(images_benign_base[0]))\n",
    "print(\"Mean per-pixel difference between CW base and benign images is : \", l2_loss_base.item())"
   ]
  },
  {
   "cell_type": "code",
   "execution_count": null,
   "metadata": {},
   "outputs": [],
   "source": [
    "l2_loss_rbf = MSELoss(flatten(images_cw_rbf[0]), flatten(images_benign_base[0]))\n",
    "print(\"Mean per-pixel difference between CW with RBF and benign images is : \", l2_loss_rbf.item())"
   ]
  },
  {
   "cell_type": "code",
   "execution_count": null,
   "metadata": {},
   "outputs": [],
   "source": [
    "MSELoss = nn.MSELoss(reduction='none')\n",
    "flatten = nn.Flatten()"
   ]
  },
  {
   "cell_type": "code",
   "execution_count": null,
   "metadata": {},
   "outputs": [],
   "source": [
    "l2_loss_base = MSELoss(flatten(images_cw_base[0]), flatten(images_benign_base[0]))\n",
    "l2_loss_base = torch.max(l2_loss_base, dim=1)[0]\n",
    "l2_loss_base = l2_loss_base.mean()\n",
    "print(\"Mean max pixel differene between CW base and benign is : \", l2_loss_base.item())"
   ]
  },
  {
   "cell_type": "code",
   "execution_count": null,
   "metadata": {},
   "outputs": [],
   "source": [
    "l2_loss_rbf = MSELoss(flatten(images_cw_rbf[0]), flatten(images_benign_base[0]))\n",
    "l2_loss_rbf = torch.max(l2_loss_rbf, dim=1)[0]\n",
    "l2_loss_rbf = l2_loss_rbf.mean()\n",
    "print(\"Mean max pixel differene between CW RBF and benign is : \", l2_loss_rbf.item())"
   ]
  },
  {
   "cell_type": "code",
   "execution_count": null,
   "metadata": {},
   "outputs": [],
   "source": []
  },
  {
   "cell_type": "code",
   "execution_count": null,
   "metadata": {},
   "outputs": [],
   "source": []
  },
  {
   "cell_type": "code",
   "execution_count": null,
   "metadata": {},
   "outputs": [],
   "source": [
    "save_path = \"/bigstor/zsarwar/SparseDNNs/MT_CIFAR10_full_10_d5f3f545a0883adb9c8f98e2a6ba4ac7/MT_Baseline_64532bf03dea249a46b41a734c5fc63b/Vis\"\n",
    "\n",
    "for idx in range(20):\n",
    "    benign = images_benign_base[0][idx]\n",
    "    cw_base = images_cw_base[0][idx]\n",
    "    cw_rbf = images_cw_rbf[0][idx]\n",
    "\n",
    "    benign = benign.swapaxes(0,1)\n",
    "    benign = benign.swapaxes(1,2)\n",
    "\n",
    "    cw_base = cw_base.swapaxes(0,1)\n",
    "    cw_base = cw_base.swapaxes(1,2)\n",
    "\n",
    "\n",
    "    cw_rbf = cw_rbf.swapaxes(0,1)\n",
    "    cw_rbf = cw_rbf.swapaxes(1,2)\n",
    "\n",
    "    plot_side_by_side(benign, cw_base, cw_rbf, idx, save_path)"
   ]
  },
  {
   "cell_type": "code",
   "execution_count": null,
   "metadata": {},
   "outputs": [],
   "source": [
    "cw_rbf.shape"
   ]
  },
  {
   "cell_type": "code",
   "execution_count": null,
   "metadata": {},
   "outputs": [],
   "source": []
  },
  {
   "cell_type": "markdown",
   "metadata": {},
   "source": [
    "# Quantized"
   ]
  },
  {
   "cell_type": "code",
   "execution_count": null,
   "metadata": {},
   "outputs": [],
   "source": [
    "base_path = \"/bigstor/zsarwar/SparseDNNs/MT_CIFAR10_full_10_d5f3f545a0883adb9c8f98e2a6ba4ac7/MT_Baseline_64532bf03dea249a46b41a734c5fc63b/\"\n",
    "images_cw_base = \"Adversarial_Datasets/CW_adv_samples_5120_test_detector-type-Quantized_integrated-False.pickle\"\n",
    "images_cw_rbf = \"Adversarial_Datasets/CW_adv_samples_5120_test_detector-type-Quantized_integrated-True.pickle\"\n",
    "images_benign_base = \"Benign_Datasets/CW_benign_samples_5120_test_detector-type-Quantized_integrated-True.pickle\"\n",
    "\n",
    "images_cw_base = os.path.join(base_path, images_cw_base)\n",
    "images_cw_rbf = os.path.join(base_path, images_cw_rbf)\n",
    "images_benign_base = os.path.join(base_path, images_benign_base)"
   ]
  },
  {
   "cell_type": "code",
   "execution_count": null,
   "metadata": {},
   "outputs": [],
   "source": [
    "with open(images_cw_base, 'rb') as in_file:\n",
    "    images_cw_base = pickle.load(in_file)\n",
    "\n",
    "with open(images_cw_rbf, 'rb') as in_file:\n",
    "    images_cw_rbf = pickle.load(in_file)\n",
    "\n",
    "with open(images_benign_base, 'rb') as in_file:\n",
    "    images_benign_base = pickle.load(in_file)"
   ]
  },
  {
   "cell_type": "code",
   "execution_count": null,
   "metadata": {},
   "outputs": [],
   "source": [
    "idx = 200"
   ]
  },
  {
   "cell_type": "code",
   "execution_count": null,
   "metadata": {},
   "outputs": [],
   "source": [
    "imshow(images_cw_base[0][idx], title=images_cw_base[1][idx].item())"
   ]
  },
  {
   "cell_type": "code",
   "execution_count": null,
   "metadata": {},
   "outputs": [],
   "source": [
    "\n",
    "imshow(images_cw_rbf[0][idx], title=images_cw_rbf[1][idx].item())"
   ]
  },
  {
   "cell_type": "code",
   "execution_count": null,
   "metadata": {},
   "outputs": [],
   "source": [
    "imshow(images_benign_base[0][idx], title=images_benign_base[1][idx].item())"
   ]
  },
  {
   "cell_type": "markdown",
   "metadata": {},
   "source": [
    "# Analyze ReLUs"
   ]
  },
  {
   "cell_type": "markdown",
   "metadata": {},
   "source": [
    "#### TODO \n",
    "Which version of resnet are they using?\n",
    "\n",
    "What's the E-ball size below?\n",
    "\n",
    "What are some standard eball sizes? CW BPDA paper\n",
    "\n",
    "Report normalized l2 dissimilarity "
   ]
  },
  {
   "cell_type": "markdown",
   "metadata": {},
   "source": [
    "# Compute pixel-wise metrics\n"
   ]
  },
  {
   "cell_type": "code",
   "execution_count": null,
   "metadata": {},
   "outputs": [],
   "source": [
    "import torch.nn as nn"
   ]
  },
  {
   "cell_type": "code",
   "execution_count": null,
   "metadata": {},
   "outputs": [],
   "source": [
    "MSELoss = nn.MSELoss(reduction='mean')\n",
    "flatten = nn.Flatten()"
   ]
  },
  {
   "cell_type": "code",
   "execution_count": null,
   "metadata": {},
   "outputs": [],
   "source": [
    "l2_loss_base = MSELoss(flatten(images_cw_base[0]), flatten(images_benign_base[0]))\n",
    "print(\"Mean per-pixel difference between CW base and benign images is : \", l2_loss_base.item())"
   ]
  },
  {
   "cell_type": "code",
   "execution_count": null,
   "metadata": {},
   "outputs": [],
   "source": [
    "l2_loss_rbf = MSELoss(flatten(images_cw_rbf[0]), flatten(images_benign_base[0]))\n",
    "print(\"Mean per-pixel difference between CW with RBF and benign images is : \", l2_loss_rbf.item())"
   ]
  },
  {
   "cell_type": "code",
   "execution_count": null,
   "metadata": {},
   "outputs": [],
   "source": [
    "MSELoss = nn.MSELoss(reduction='none')\n",
    "flatten = nn.Flatten()"
   ]
  },
  {
   "cell_type": "code",
   "execution_count": null,
   "metadata": {},
   "outputs": [],
   "source": [
    "l2_loss_base = MSELoss(flatten(images_cw_base[0]), flatten(images_benign_base[0]))\n",
    "l2_loss_base = torch.max(l2_loss_base, dim=1)[0]\n",
    "l2_loss_base = l2_loss_base.mean()\n",
    "print(\"Mean max pixel differene between CW base and benign is : \", l2_loss_base.item())"
   ]
  },
  {
   "cell_type": "code",
   "execution_count": null,
   "metadata": {},
   "outputs": [],
   "source": [
    "l2_loss_rbf = MSELoss(flatten(images_cw_rbf[0]), flatten(images_benign_base[0]))\n",
    "l2_loss_rbf = torch.max(l2_loss_rbf, dim=1)[0]\n",
    "l2_loss_rbf = l2_loss_rbf.mean()\n",
    "print(\"Mean max pixel differene between CW RBF and benign is : \", l2_loss_rbf.item())"
   ]
  },
  {
   "cell_type": "code",
   "execution_count": null,
   "metadata": {},
   "outputs": [],
   "source": []
  },
  {
   "cell_type": "code",
   "execution_count": null,
   "metadata": {},
   "outputs": [],
   "source": [
    "save_path = \"/bigstor/zsarwar/SparseDNNs/MT_CIFAR10_full_10_d5f3f545a0883adb9c8f98e2a6ba4ac7/MT_Baseline_64532bf03dea249a46b41a734c5fc63b/Vis_Quantized\"\n",
    "\n",
    "for idx in range(20):\n",
    "    benign = images_benign_base[0][idx]\n",
    "    cw_base = images_cw_base[0][idx]\n",
    "    cw_rbf = images_cw_rbf[0][idx]\n",
    "\n",
    "    benign = benign.swapaxes(0,1)\n",
    "    benign = benign.swapaxes(1,2)\n",
    "\n",
    "    cw_base = cw_base.swapaxes(0,1)\n",
    "    cw_base = cw_base.swapaxes(1,2)\n",
    "\n",
    "\n",
    "    cw_rbf = cw_rbf.swapaxes(0,1)\n",
    "    cw_rbf = cw_rbf.swapaxes(1,2)\n",
    "\n",
    "    plot_side_by_side(benign, cw_base, cw_rbf, idx, save_path)"
   ]
  },
  {
   "cell_type": "code",
   "execution_count": null,
   "metadata": {},
   "outputs": [],
   "source": []
  },
  {
   "cell_type": "code",
   "execution_count": null,
   "metadata": {},
   "outputs": [],
   "source": []
  },
  {
   "cell_type": "code",
   "execution_count": null,
   "metadata": {},
   "outputs": [],
   "source": []
  },
  {
   "cell_type": "markdown",
   "metadata": {},
   "source": [
    "# ResNet "
   ]
  },
  {
   "cell_type": "markdown",
   "metadata": {},
   "source": [
    "# Regular"
   ]
  },
  {
   "cell_type": "code",
   "execution_count": null,
   "metadata": {},
   "outputs": [],
   "source": [
    "base_path = \"/bigstor/zsarwar/SparseDNNs/MT_CIFAR10_full_10_d5f3f545a0883adb9c8f98e2a6ba4ac7/MT_Baseline_32efd89f04333501e1d66bc4e1d4260f\"\n",
    "images_cw_base = \"Adversarial_Datasets/CW_adv_samples_5120_test_detector-type-Regular_integrated-False.pickle\"\n",
    "images_cw_rbf = \"Adversarial_Datasets/CW_adv_samples_5120_test_detector-type-Regular_integrated-True.pickle\"\n",
    "images_benign_base = \"Benign_Datasets/CW_benign_samples_5120_test_detector-type-Regular_integrated-True.pickle\"\n",
    "\n",
    "images_cw_base = os.path.join(base_path, images_cw_base)\n",
    "images_cw_rbf = os.path.join(base_path, images_cw_rbf)\n",
    "images_benign_base = os.path.join(base_path, images_benign_base)"
   ]
  },
  {
   "cell_type": "code",
   "execution_count": null,
   "metadata": {},
   "outputs": [],
   "source": [
    "with open(images_cw_base, 'rb') as in_file:\n",
    "    images_cw_base = pickle.load(in_file)\n",
    "\n",
    "with open(images_cw_rbf, 'rb') as in_file:\n",
    "    images_cw_rbf = pickle.load(in_file)\n",
    "\n",
    "with open(images_benign_base, 'rb') as in_file:\n",
    "    images_benign_base = pickle.load(in_file)\n",
    "\n",
    "\n"
   ]
  },
  {
   "cell_type": "code",
   "execution_count": null,
   "metadata": {},
   "outputs": [],
   "source": [
    "idx = 6"
   ]
  },
  {
   "cell_type": "code",
   "execution_count": null,
   "metadata": {},
   "outputs": [],
   "source": [
    "imshow(images_cw_base[0][idx], title=images_cw_base[1][idx].item())"
   ]
  },
  {
   "cell_type": "code",
   "execution_count": null,
   "metadata": {},
   "outputs": [],
   "source": [
    "\n",
    "imshow(images_cw_rbf[0][idx], title=images_cw_rbf[1][idx].item())"
   ]
  },
  {
   "cell_type": "code",
   "execution_count": null,
   "metadata": {},
   "outputs": [],
   "source": [
    "imshow(images_benign_base[0][idx], title=images_benign_base[1][idx].item())"
   ]
  },
  {
   "cell_type": "markdown",
   "metadata": {},
   "source": [
    "# Analyze ReLUs"
   ]
  },
  {
   "cell_type": "markdown",
   "metadata": {},
   "source": [
    "# Compute pixel-wise metrics\n"
   ]
  },
  {
   "cell_type": "code",
   "execution_count": null,
   "metadata": {},
   "outputs": [],
   "source": [
    "import torch.nn as nn"
   ]
  },
  {
   "cell_type": "code",
   "execution_count": null,
   "metadata": {},
   "outputs": [],
   "source": [
    "MSELoss = nn.MSELoss(reduction='mean')\n",
    "flatten = nn.Flatten()"
   ]
  },
  {
   "cell_type": "code",
   "execution_count": null,
   "metadata": {},
   "outputs": [],
   "source": [
    "l2_loss_base = MSELoss(flatten(images_cw_base[0]), flatten(images_benign_base[0]))\n",
    "print(\"Mean per-pixel difference between CW base and benign images is : \", l2_loss_base.item())"
   ]
  },
  {
   "cell_type": "code",
   "execution_count": null,
   "metadata": {},
   "outputs": [],
   "source": [
    "l2_loss_rbf = MSELoss(flatten(images_cw_rbf[0]), flatten(images_benign_base[0]))\n",
    "print(\"Mean per-pixel difference between CW with RBF and benign images is : \", l2_loss_rbf.item())"
   ]
  },
  {
   "cell_type": "code",
   "execution_count": null,
   "metadata": {},
   "outputs": [],
   "source": [
    "MSELoss = nn.MSELoss(reduction='none')\n",
    "flatten = nn.Flatten()"
   ]
  },
  {
   "cell_type": "code",
   "execution_count": null,
   "metadata": {},
   "outputs": [],
   "source": [
    "l2_loss_base = MSELoss(flatten(images_cw_base[0]), flatten(images_benign_base[0]))\n",
    "l2_loss_base = torch.max(l2_loss_base, dim=1)[0]\n",
    "l2_loss_base = l2_loss_base.mean()\n",
    "print(\"Mean max pixel differene between CW base and benign is : \", l2_loss_base.item())"
   ]
  },
  {
   "cell_type": "code",
   "execution_count": null,
   "metadata": {},
   "outputs": [],
   "source": [
    "l2_loss_rbf = MSELoss(flatten(images_cw_rbf[0]), flatten(images_benign_base[0]))\n",
    "l2_loss_rbf = torch.max(l2_loss_rbf, dim=1)[0]\n",
    "l2_loss_rbf = l2_loss_rbf.mean()\n",
    "print(\"Mean max pixel differene between CW RBF and benign is : \", l2_loss_rbf.item())"
   ]
  },
  {
   "cell_type": "code",
   "execution_count": null,
   "metadata": {},
   "outputs": [],
   "source": []
  },
  {
   "cell_type": "code",
   "execution_count": null,
   "metadata": {},
   "outputs": [],
   "source": []
  },
  {
   "cell_type": "code",
   "execution_count": null,
   "metadata": {},
   "outputs": [],
   "source": [
    "save_path = \"/bigstor/zsarwar/SparseDNNs/MT_CIFAR10_full_10_d5f3f545a0883adb9c8f98e2a6ba4ac7/MT_Baseline_64532bf03dea249a46b41a734c5fc63b/Vis\"\n",
    "\n",
    "for idx in range(20):\n",
    "    benign = images_benign_base[0][idx]\n",
    "    cw_base = images_cw_base[0][idx]\n",
    "    cw_rbf = images_cw_rbf[0][idx]\n",
    "\n",
    "    benign = benign.swapaxes(0,1)\n",
    "    benign = benign.swapaxes(1,2)\n",
    "\n",
    "    cw_base = cw_base.swapaxes(0,1)\n",
    "    cw_base = cw_base.swapaxes(1,2)\n",
    "\n",
    "\n",
    "    cw_rbf = cw_rbf.swapaxes(0,1)\n",
    "    cw_rbf = cw_rbf.swapaxes(1,2)\n",
    "\n",
    "    plot_side_by_side(benign, cw_base, cw_rbf, idx, save_path)"
   ]
  },
  {
   "cell_type": "code",
   "execution_count": null,
   "metadata": {},
   "outputs": [],
   "source": [
    "cw_rbf.shape"
   ]
  },
  {
   "cell_type": "code",
   "execution_count": null,
   "metadata": {},
   "outputs": [],
   "source": []
  },
  {
   "cell_type": "markdown",
   "metadata": {},
   "source": [
    "# Quantized"
   ]
  },
  {
   "cell_type": "code",
   "execution_count": null,
   "metadata": {},
   "outputs": [],
   "source": [
    "base_path = \"/bigstor/zsarwar/SparseDNNs/MT_CIFAR10_full_10_d5f3f545a0883adb9c8f98e2a6ba4ac7/MT_Baseline_32efd89f04333501e1d66bc4e1d4260f\"\n",
    "images_cw_base = \"Adversarial_Datasets/CW_adv_samples_5120_test_detector-type-Quantized_integrated-False.pickle\"\n",
    "images_cw_rbf = \"Adversarial_Datasets/CW_adv_samples_5120_test_detector-type-Quantized_integrated-True.pickle\"\n",
    "images_benign_base = \"Benign_Datasets/CW_benign_samples_5120_test_detector-type-Quantized_integrated-True.pickle\"\n",
    "\n",
    "images_cw_base = os.path.join(base_path, images_cw_base)\n",
    "images_cw_rbf = os.path.join(base_path, images_cw_rbf)\n",
    "images_benign_base = os.path.join(base_path, images_benign_base)"
   ]
  },
  {
   "cell_type": "code",
   "execution_count": null,
   "metadata": {},
   "outputs": [],
   "source": [
    "with open(images_cw_base, 'rb') as in_file:\n",
    "    images_cw_base = pickle.load(in_file)\n",
    "\n",
    "with open(images_cw_rbf, 'rb') as in_file:\n",
    "    images_cw_rbf = pickle.load(in_file)\n",
    "\n",
    "with open(images_benign_base, 'rb') as in_file:\n",
    "    images_benign_base = pickle.load(in_file)"
   ]
  },
  {
   "cell_type": "code",
   "execution_count": null,
   "metadata": {},
   "outputs": [],
   "source": [
    "idx = 200"
   ]
  },
  {
   "cell_type": "code",
   "execution_count": null,
   "metadata": {},
   "outputs": [],
   "source": [
    "imshow(images_cw_base[0][idx], title=images_cw_base[1][idx].item())"
   ]
  },
  {
   "cell_type": "code",
   "execution_count": null,
   "metadata": {},
   "outputs": [],
   "source": [
    "\n",
    "imshow(images_cw_rbf[0][idx], title=images_cw_rbf[1][idx].item())"
   ]
  },
  {
   "cell_type": "code",
   "execution_count": null,
   "metadata": {},
   "outputs": [],
   "source": [
    "imshow(images_benign_base[0][idx], title=images_benign_base[1][idx].item())"
   ]
  },
  {
   "cell_type": "markdown",
   "metadata": {},
   "source": [
    "# Compute pixel-wise metrics\n"
   ]
  },
  {
   "cell_type": "code",
   "execution_count": null,
   "metadata": {},
   "outputs": [],
   "source": [
    "import torch.nn as nn"
   ]
  },
  {
   "cell_type": "code",
   "execution_count": null,
   "metadata": {},
   "outputs": [],
   "source": [
    "MSELoss = nn.MSELoss(reduction='mean')\n",
    "flatten = nn.Flatten()"
   ]
  },
  {
   "cell_type": "code",
   "execution_count": null,
   "metadata": {},
   "outputs": [],
   "source": [
    "l2_loss_base = MSELoss(flatten(images_cw_base[0]), flatten(images_benign_base[0]))\n",
    "print(\"Mean per-pixel difference between CW base and benign images is : \", l2_loss_base.item())"
   ]
  },
  {
   "cell_type": "code",
   "execution_count": null,
   "metadata": {},
   "outputs": [],
   "source": [
    "l2_loss_rbf = MSELoss(flatten(images_cw_rbf[0]), flatten(images_benign_base[0]))\n",
    "print(\"Mean per-pixel difference between CW with RBF and benign images is : \", l2_loss_rbf.item())"
   ]
  },
  {
   "cell_type": "code",
   "execution_count": null,
   "metadata": {},
   "outputs": [],
   "source": [
    "MSELoss = nn.MSELoss(reduction='none')\n",
    "flatten = nn.Flatten()"
   ]
  },
  {
   "cell_type": "code",
   "execution_count": null,
   "metadata": {},
   "outputs": [],
   "source": [
    "l2_loss_base = MSELoss(flatten(images_cw_base[0]), flatten(images_benign_base[0]))\n",
    "l2_loss_base = torch.max(l2_loss_base, dim=1)[0]\n",
    "l2_loss_base = l2_loss_base.mean()\n",
    "print(\"Mean max pixel differene between CW base and benign is : \", l2_loss_base.item())"
   ]
  },
  {
   "cell_type": "code",
   "execution_count": null,
   "metadata": {},
   "outputs": [],
   "source": [
    "l2_loss_rbf = MSELoss(flatten(images_cw_rbf[0]), flatten(images_benign_base[0]))\n",
    "l2_loss_rbf = torch.max(l2_loss_rbf, dim=1)[0]\n",
    "l2_loss_rbf = l2_loss_rbf.mean()\n",
    "print(\"Mean max pixel differene between CW RBF and benign is : \", l2_loss_rbf.item())"
   ]
  },
  {
   "cell_type": "code",
   "execution_count": null,
   "metadata": {},
   "outputs": [],
   "source": []
  },
  {
   "cell_type": "code",
   "execution_count": null,
   "metadata": {},
   "outputs": [],
   "source": [
    "save_path = \"/bigstor/zsarwar/SparseDNNs/MT_CIFAR10_full_10_d5f3f545a0883adb9c8f98e2a6ba4ac7/MT_Baseline_64532bf03dea249a46b41a734c5fc63b/Vis_Quantized\"\n",
    "\n",
    "for idx in range(20):\n",
    "    benign = images_benign_base[0][idx]\n",
    "    cw_base = images_cw_base[0][idx]\n",
    "    cw_rbf = images_cw_rbf[0][idx]\n",
    "\n",
    "    benign = benign.swapaxes(0,1)\n",
    "    benign = benign.swapaxes(1,2)\n",
    "\n",
    "    cw_base = cw_base.swapaxes(0,1)\n",
    "    cw_base = cw_base.swapaxes(1,2)\n",
    "\n",
    "\n",
    "    cw_rbf = cw_rbf.swapaxes(0,1)\n",
    "    cw_rbf = cw_rbf.swapaxes(1,2)\n",
    "\n",
    "    plot_side_by_side(benign, cw_base, cw_rbf, idx, save_path)"
   ]
  },
  {
   "cell_type": "code",
   "execution_count": null,
   "metadata": {},
   "outputs": [],
   "source": []
  }
 ],
 "metadata": {
  "kernelspec": {
   "display_name": "ffcv_2",
   "language": "python",
   "name": "python3"
  },
  "language_info": {
   "codemirror_mode": {
    "name": "ipython",
    "version": 3
   },
   "file_extension": ".py",
   "mimetype": "text/x-python",
   "name": "python",
   "nbconvert_exporter": "python",
   "pygments_lexer": "ipython3",
   "version": "3.9.16"
  }
 },
 "nbformat": 4,
 "nbformat_minor": 2
}
