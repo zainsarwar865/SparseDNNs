{
 "cells": [
  {
   "cell_type": "code",
   "execution_count": 1,
   "metadata": {},
   "outputs": [],
   "source": [
    "import os\n",
    "os.environ[\"CUDA_VISIBLE_DEVICES\"]=\"1\""
   ]
  },
  {
   "cell_type": "code",
   "execution_count": 2,
   "metadata": {},
   "outputs": [],
   "source": [
    "from collections import defaultdict\n",
    "import pickle\n",
    "import torch\n",
    "from sklearn.gaussian_process.kernels import RBF\n",
    "from sklearn.svm import SVC\n",
    "import numpy as np\n",
    "import pandas as pd\n",
    "from sklearn.svm import OneClassSVM\n"
   ]
  },
  {
   "cell_type": "code",
   "execution_count": 3,
   "metadata": {},
   "outputs": [],
   "source": [
    "with open(\"/bigstor/zsarwar/SparseDNNs/MT_CIFAR10_full_10_d5f3f545a0883adb9c8f98e2a6ba4ac7/MT_Baseline_d2a45a4dd02a5e037e5954b82387e666/ReLUs/ReLUs_Clean.pkl\", 'rb') as iffile:\n",
    "    features = pickle.load(iffile)"
   ]
  },
  {
   "cell_type": "code",
   "execution_count": 4,
   "metadata": {},
   "outputs": [
    {
     "data": {
      "text/plain": [
       "dict_keys(['layer_2_0_0', 'layer_2_0_1', 'layer2_1_0', 'layer2_1_1', 'layer_3_0_0', 'layer_3_0_1', 'layer3_1_0', 'layer3_1_1', 'layer_4_0_0', 'layer_4_0_1', 'layer4_1_0', 'layer4_1_1'])"
      ]
     },
     "execution_count": 4,
     "metadata": {},
     "output_type": "execute_result"
    }
   ],
   "source": [
    "features.keys()"
   ]
  },
  {
   "cell_type": "code",
   "execution_count": 5,
   "metadata": {},
   "outputs": [],
   "source": [
    "layer = 'layer_4_0_1'\n",
    "features = features[layer]\n",
    "features_matrix = None\n",
    "\n",
    "for i in range(len(features)):\n",
    "    if isinstance(features_matrix, torch.Tensor):\n",
    "        features_matrix = torch.cat((features_matrix, features[i]))\n",
    "    else:\n",
    "        features_matrix = features[i]\n",
    "\n",
    "features = None"
   ]
  },
  {
   "cell_type": "code",
   "execution_count": 6,
   "metadata": {},
   "outputs": [],
   "source": [
    "features_matrix = torch.flatten(features_matrix, start_dim=1, end_dim=-1)"
   ]
  },
  {
   "cell_type": "code",
   "execution_count": 7,
   "metadata": {},
   "outputs": [],
   "source": [
    "# Quantize\n",
    "# Comput per-dimension mean"
   ]
  },
  {
   "cell_type": "code",
   "execution_count": 8,
   "metadata": {},
   "outputs": [],
   "source": [
    "dim_mean = features_matrix.mean(dim=0)"
   ]
  },
  {
   "cell_type": "code",
   "execution_count": 9,
   "metadata": {},
   "outputs": [],
   "source": [
    "binarized_matrix = torch.where(features_matrix >= dim_mean, torch.ones_like(features_matrix), torch.zeros_like(features_matrix))"
   ]
  },
  {
   "cell_type": "code",
   "execution_count": 10,
   "metadata": {},
   "outputs": [],
   "source": [
    "features_matrix = None"
   ]
  },
  {
   "cell_type": "code",
   "execution_count": 11,
   "metadata": {},
   "outputs": [],
   "source": [
    "\n",
    "torch.cuda.empty_cache()"
   ]
  },
  {
   "cell_type": "code",
   "execution_count": 12,
   "metadata": {},
   "outputs": [],
   "source": [
    "binarized_matrix = binarized_matrix.cpu().numpy()"
   ]
  },
  {
   "cell_type": "code",
   "execution_count": 13,
   "metadata": {},
   "outputs": [
    {
     "data": {
      "text/html": [
       "<style>#sk-container-id-1 {color: black;background-color: white;}#sk-container-id-1 pre{padding: 0;}#sk-container-id-1 div.sk-toggleable {background-color: white;}#sk-container-id-1 label.sk-toggleable__label {cursor: pointer;display: block;width: 100%;margin-bottom: 0;padding: 0.3em;box-sizing: border-box;text-align: center;}#sk-container-id-1 label.sk-toggleable__label-arrow:before {content: \"▸\";float: left;margin-right: 0.25em;color: #696969;}#sk-container-id-1 label.sk-toggleable__label-arrow:hover:before {color: black;}#sk-container-id-1 div.sk-estimator:hover label.sk-toggleable__label-arrow:before {color: black;}#sk-container-id-1 div.sk-toggleable__content {max-height: 0;max-width: 0;overflow: hidden;text-align: left;background-color: #f0f8ff;}#sk-container-id-1 div.sk-toggleable__content pre {margin: 0.2em;color: black;border-radius: 0.25em;background-color: #f0f8ff;}#sk-container-id-1 input.sk-toggleable__control:checked~div.sk-toggleable__content {max-height: 200px;max-width: 100%;overflow: auto;}#sk-container-id-1 input.sk-toggleable__control:checked~label.sk-toggleable__label-arrow:before {content: \"▾\";}#sk-container-id-1 div.sk-estimator input.sk-toggleable__control:checked~label.sk-toggleable__label {background-color: #d4ebff;}#sk-container-id-1 div.sk-label input.sk-toggleable__control:checked~label.sk-toggleable__label {background-color: #d4ebff;}#sk-container-id-1 input.sk-hidden--visually {border: 0;clip: rect(1px 1px 1px 1px);clip: rect(1px, 1px, 1px, 1px);height: 1px;margin: -1px;overflow: hidden;padding: 0;position: absolute;width: 1px;}#sk-container-id-1 div.sk-estimator {font-family: monospace;background-color: #f0f8ff;border: 1px dotted black;border-radius: 0.25em;box-sizing: border-box;margin-bottom: 0.5em;}#sk-container-id-1 div.sk-estimator:hover {background-color: #d4ebff;}#sk-container-id-1 div.sk-parallel-item::after {content: \"\";width: 100%;border-bottom: 1px solid gray;flex-grow: 1;}#sk-container-id-1 div.sk-label:hover label.sk-toggleable__label {background-color: #d4ebff;}#sk-container-id-1 div.sk-serial::before {content: \"\";position: absolute;border-left: 1px solid gray;box-sizing: border-box;top: 0;bottom: 0;left: 50%;z-index: 0;}#sk-container-id-1 div.sk-serial {display: flex;flex-direction: column;align-items: center;background-color: white;padding-right: 0.2em;padding-left: 0.2em;position: relative;}#sk-container-id-1 div.sk-item {position: relative;z-index: 1;}#sk-container-id-1 div.sk-parallel {display: flex;align-items: stretch;justify-content: center;background-color: white;position: relative;}#sk-container-id-1 div.sk-item::before, #sk-container-id-1 div.sk-parallel-item::before {content: \"\";position: absolute;border-left: 1px solid gray;box-sizing: border-box;top: 0;bottom: 0;left: 50%;z-index: -1;}#sk-container-id-1 div.sk-parallel-item {display: flex;flex-direction: column;z-index: 1;position: relative;background-color: white;}#sk-container-id-1 div.sk-parallel-item:first-child::after {align-self: flex-end;width: 50%;}#sk-container-id-1 div.sk-parallel-item:last-child::after {align-self: flex-start;width: 50%;}#sk-container-id-1 div.sk-parallel-item:only-child::after {width: 0;}#sk-container-id-1 div.sk-dashed-wrapped {border: 1px dashed gray;margin: 0 0.4em 0.5em 0.4em;box-sizing: border-box;padding-bottom: 0.4em;background-color: white;}#sk-container-id-1 div.sk-label label {font-family: monospace;font-weight: bold;display: inline-block;line-height: 1.2em;}#sk-container-id-1 div.sk-label-container {text-align: center;}#sk-container-id-1 div.sk-container {/* jupyter's `normalize.less` sets `[hidden] { display: none; }` but bootstrap.min.css set `[hidden] { display: none !important; }` so we also need the `!important` here to be able to override the default hidden behavior on the sphinx rendered scikit-learn.org. See: https://github.com/scikit-learn/scikit-learn/issues/21755 */display: inline-block !important;position: relative;}#sk-container-id-1 div.sk-text-repr-fallback {display: none;}</style><div id=\"sk-container-id-1\" class=\"sk-top-container\"><div class=\"sk-text-repr-fallback\"><pre>OneClassSVM()</pre><b>In a Jupyter environment, please rerun this cell to show the HTML representation or trust the notebook. <br />On GitHub, the HTML representation is unable to render, please try loading this page with nbviewer.org.</b></div><div class=\"sk-container\" hidden><div class=\"sk-item\"><div class=\"sk-estimator sk-toggleable\"><input class=\"sk-toggleable__control sk-hidden--visually\" id=\"sk-estimator-id-1\" type=\"checkbox\" checked><label for=\"sk-estimator-id-1\" class=\"sk-toggleable__label sk-toggleable__label-arrow\">OneClassSVM</label><div class=\"sk-toggleable__content\"><pre>OneClassSVM()</pre></div></div></div></div></div>"
      ],
      "text/plain": [
       "OneClassSVM()"
      ]
     },
     "execution_count": 13,
     "metadata": {},
     "output_type": "execute_result"
    }
   ],
   "source": [
    "\n",
    "\n",
    "model = OneClassSVM(kernel='rbf')\n",
    "model.fit(binarized_matrix)"
   ]
  },
  {
   "cell_type": "code",
   "execution_count": 13,
   "metadata": {},
   "outputs": [],
   "source": [
    "# save\n",
    "#with open('/bigstor/zsarwar/SparseDNNs/MT_CIFAR10_full_10_d5f3f545a0883adb9c8f98e2a6ba4ac7/MT_Baseline_d2a45a4dd02a5e037e5954b82387e666/RBF/rbf_detector.pkl','wb') as f:\n",
    "    #pickle.dump(model,f)"
   ]
  },
  {
   "cell_type": "code",
   "execution_count": 14,
   "metadata": {},
   "outputs": [],
   "source": [
    "with open('/bigstor/zsarwar/SparseDNNs/MT_CIFAR10_full_10_d5f3f545a0883adb9c8f98e2a6ba4ac7/MT_Baseline_d2a45a4dd02a5e037e5954b82387e666/RBF/rbf_detector.pkl', 'rb') as f:\n",
    "    model = pickle.load(f)"
   ]
  },
  {
   "cell_type": "code",
   "execution_count": 14,
   "metadata": {},
   "outputs": [],
   "source": [
    "test_data = binarized_matrix[0:1000, :]"
   ]
  },
  {
   "cell_type": "code",
   "execution_count": 15,
   "metadata": {},
   "outputs": [],
   "source": [
    "res = model.predict(test_data)"
   ]
  },
  {
   "cell_type": "code",
   "execution_count": 16,
   "metadata": {},
   "outputs": [
    {
     "data": {
      "text/plain": [
       "(501,)"
      ]
     },
     "execution_count": 16,
     "metadata": {},
     "output_type": "execute_result"
    },
    {
     "ename": "",
     "evalue": "",
     "output_type": "error",
     "traceback": [
      "\u001b[1;31mThe Kernel crashed while executing code in the the current cell or a previous cell. Please review the code in the cell(s) to identify a possible cause of the failure. Click <a href='https://aka.ms/vscodeJupyterKernelCrash'>here</a> for more info. View Jupyter <a href='command:jupyter.viewOutput'>log</a> for further details."
     ]
    }
   ],
   "source": [
    "np.where(res == 1)[0].shape"
   ]
  },
  {
   "cell_type": "markdown",
   "metadata": {},
   "source": [
    "# Analyzing CW generated images"
   ]
  },
  {
   "cell_type": "code",
   "execution_count": 28,
   "metadata": {},
   "outputs": [],
   "source": [
    "import torch\n",
    "import numpy as np\n",
    "import matplotlib.pyplot as plt\n",
    "import torchvision\n",
    "import torchvision.transforms as transforms\n"
   ]
  },
  {
   "cell_type": "code",
   "execution_count": 29,
   "metadata": {},
   "outputs": [],
   "source": [
    "x = torch.load(\"/bigstor/zsarwar/SparseDNNs/MT_CIFAR10_full_10_d5f3f545a0883adb9c8f98e2a6ba4ac7/MT_Baseline_d2a45a4dd02a5e037e5954b82387e666/CW/samples.pt\")"
   ]
  },
  {
   "cell_type": "code",
   "execution_count": 30,
   "metadata": {},
   "outputs": [],
   "source": [
    "x = x.numpy()"
   ]
  },
  {
   "cell_type": "code",
   "execution_count": 53,
   "metadata": {},
   "outputs": [],
   "source": [
    "img = x[0]"
   ]
  },
  {
   "cell_type": "code",
   "execution_count": 54,
   "metadata": {},
   "outputs": [],
   "source": [
    "img = img.swapaxes(0,1)\n",
    "img = img.swapaxes(1,2)"
   ]
  },
  {
   "cell_type": "code",
   "execution_count": 57,
   "metadata": {},
   "outputs": [
    {
     "name": "stderr",
     "output_type": "stream",
     "text": [
      "Clipping input data to the valid range for imshow with RGB data ([0..1] for floats or [0..255] for integers).\n"
     ]
    },
    {
     "data": {
      "text/plain": [
       "<matplotlib.image.AxesImage at 0x7efda7768f40>"
      ]
     },
     "execution_count": 57,
     "metadata": {},
     "output_type": "execute_result"
    },
    {
     "data": {
      "image/png": "[encoded data removed]",
      "text/plain": [
       "<Figure size 500x200 with 1 Axes>"
      ]
     },
     "metadata": {},
     "output_type": "display_data"
    }
   ],
   "source": [
    "plt.figure(figsize = (5,2))\n",
    "\n",
    "plt.imshow(img)"
   ]
  },
  {
   "cell_type": "code",
   "execution_count": 56,
   "metadata": {},
   "outputs": [],
   "source": [
    "# Undo normalization for now\n",
    "transform_test = transforms.Compose([\n",
    "    transforms.ToTensor(), \n",
    "    ])\n",
    "\n",
    "\n",
    "valset = torchvision.datasets.CIFAR10(root='/bigstor/zsarwar/CIFAR10', train=False,\n",
    "                                    download=False, transform=transform_test\n",
    "                                        )\n",
    "                                    \n",
    "dataloader = torch.utils.data.DataLoader(valset, batch_size=128,\n",
    "                                            shuffle=False, num_workers=2)\n",
    "   "
   ]
  },
  {
   "cell_type": "code",
   "execution_count": 44,
   "metadata": {},
   "outputs": [],
   "source": [
    "inputs, _ = next(iter(dataloader))"
   ]
  },
  {
   "cell_type": "code",
   "execution_count": 47,
   "metadata": {},
   "outputs": [],
   "source": [
    "img_r = inputs[0]\n",
    "img_r = img_r.swapaxes(0,1)\n",
    "img_r = img_r.swapaxes(1,2)"
   ]
  },
  {
   "cell_type": "code",
   "execution_count": 49,
   "metadata": {},
   "outputs": [
    {
     "data": {
      "text/plain": [
       "<matplotlib.image.AxesImage at 0x7efc41d8d490>"
      ]
     },
     "execution_count": 49,
     "metadata": {},
     "output_type": "execute_result"
    },
    {
     "data": {
      "image/png": "[encoded data removed]",
      "text/plain": [
       "<Figure size 640x480 with 1 Axes>"
      ]
     },
     "metadata": {},
     "output_type": "display_data"
    }
   ],
   "source": [
    "plt.imshow(img_r)"
   ]
  },
  {
   "cell_type": "markdown",
   "metadata": {},
   "source": [
    "# Testing adv examples"
   ]
  },
  {
   "cell_type": "code",
   "execution_count": 4,
   "metadata": {},
   "outputs": [],
   "source": [
    "import torch\n",
    "import torch.utils.data.dataloader\n",
    "import torchvision.datasets \n",
    "import torchvision.transforms as transforms"
   ]
  },
  {
   "cell_type": "code",
   "execution_count": 5,
   "metadata": {},
   "outputs": [],
   "source": [
    "\n",
    "\n",
    "normalize  =  transforms.Normalize((0.4914, 0.4822, 0.4465), (0.247, 0.243, 0.261))\n",
    "   \n",
    "\n",
    "transform_test = transforms.Compose([\n",
    "    transforms.ToTensor(),\n",
    "    normalize,   \n",
    "    ])\n",
    "\n",
    "\n",
    "valset = torchvision.datasets.CIFAR10(root='/bigstor/zsarwar/CIFAR10', train=False,\n",
    "                                        download=False, transform=transform_test\n",
    "                                        )\n",
    "val_loader = torch.utils.data.DataLoader(valset, batch_size=128,\n",
    "                                        shuffle=False, num_workers=2)\n",
    "\n"
   ]
  },
  {
   "cell_type": "code",
   "execution_count": 6,
   "metadata": {},
   "outputs": [],
   "source": [
    "dl = iter(val_loader)\n"
   ]
  },
  {
   "cell_type": "code",
   "execution_count": 11,
   "metadata": {},
   "outputs": [
    {
     "data": {
      "text/plain": [
       "[tensor([[[[ 5.6669e-01,  3.4442e-01,  2.6503e-01,  ..., -7.1933e-01,\n",
       "            -7.9871e-01, -8.3047e-01],\n",
       "           [ 4.0792e-01,  1.1003e-02,  3.6029e-01,  ..., -7.3521e-01,\n",
       "            -6.8758e-01, -5.6056e-01],\n",
       "           [ 2.1740e-01, -3.6628e-02,  2.8091e-01,  ..., -7.5108e-01,\n",
       "            -5.4469e-01, -5.7644e-01],\n",
       "           ...,\n",
       "           [-8.7810e-01, -8.1459e-01, -6.5582e-01,  ..., -1.3068e+00,\n",
       "            -1.2909e+00, -9.8924e-01],\n",
       "           [-1.1004e+00, -1.0527e+00, -7.0345e-01,  ..., -1.3703e+00,\n",
       "            -1.2433e+00, -1.1321e+00],\n",
       "           [-9.0985e-01, -1.0210e+00, -5.1293e-01,  ..., -1.1639e+00,\n",
       "            -1.1639e+00, -1.3385e+00]],\n",
       " \n",
       "          [[ 1.0819e+00,  9.6892e-01,  9.3664e-01,  ..., -3.1647e-02,\n",
       "            -9.6199e-02, -1.4461e-01],\n",
       "           [ 9.5278e-01,  6.3002e-01,  1.0173e+00,  ...,  3.2906e-02,\n",
       "             8.1320e-02,  1.6201e-01],\n",
       "           [ 7.7526e-01,  5.6546e-01,  9.2050e-01,  ...,  1.6768e-02,\n",
       "             1.9429e-01,  8.1320e-02],\n",
       "           ...,\n",
       "           [-6.2876e-01, -6.4490e-01, -5.8034e-01,  ..., -1.1129e+00,\n",
       "            -1.1452e+00, -9.1924e-01],\n",
       "           [-9.1924e-01, -9.3538e-01, -6.4490e-01,  ..., -1.2743e+00,\n",
       "            -1.1613e+00, -1.0968e+00],\n",
       "           [-6.7717e-01, -8.5469e-01, -4.0282e-01,  ..., -1.1452e+00,\n",
       "            -1.1452e+00, -1.3227e+00]],\n",
       " \n",
       "          [[ 1.8244e-01, -5.7960e-02,  3.2191e-02,  ..., -1.1848e+00,\n",
       "            -1.2600e+00, -1.2149e+00],\n",
       "           [ 4.7217e-02, -3.8851e-01,  1.7166e-02,  ..., -1.2149e+00,\n",
       "            -1.1848e+00, -9.5947e-01],\n",
       "           [-1.4811e-01, -4.6364e-01, -1.9319e-01,  ..., -1.1398e+00,\n",
       "            -1.0196e+00, -1.0045e+00],\n",
       "           ...,\n",
       "           [-1.0346e+00, -9.2942e-01, -5.6882e-01,  ..., -1.1247e+00,\n",
       "            -1.1247e+00, -8.8434e-01],\n",
       "           [-1.1999e+00, -1.1398e+00, -5.9887e-01,  ..., -1.1247e+00,\n",
       "            -1.0045e+00, -9.2942e-01],\n",
       "           [-8.9937e-01, -1.0196e+00, -3.7349e-01,  ..., -9.2942e-01,\n",
       "            -9.2942e-01, -1.0947e+00]]],\n",
       " \n",
       " \n",
       "         [[[ 2.0591e+00,  2.0591e+00,  2.0591e+00,  ...,  2.0591e+00,\n",
       "             2.0591e+00,  2.0591e+00],\n",
       "           [ 2.0591e+00,  2.0432e+00,  2.0591e+00,  ...,  2.0591e+00,\n",
       "             2.0591e+00,  2.0591e+00],\n",
       "           [ 2.0591e+00,  2.0591e+00,  2.0591e+00,  ...,  2.0591e+00,\n",
       "             2.0591e+00,  2.0591e+00],\n",
       "           ...,\n",
       "           [ 2.0591e+00,  2.0591e+00,  2.0591e+00,  ...,  2.0591e+00,\n",
       "             2.0591e+00,  2.0591e+00],\n",
       "           [ 2.0591e+00,  2.0432e+00,  2.0591e+00,  ...,  2.0591e+00,\n",
       "             2.0591e+00,  2.0591e+00],\n",
       "           [ 2.0591e+00,  2.0591e+00,  2.0591e+00,  ...,  2.0591e+00,\n",
       "             2.0591e+00,  2.0591e+00]],\n",
       " \n",
       "          [[ 2.1309e+00,  2.1309e+00,  2.1309e+00,  ...,  2.1309e+00,\n",
       "             2.1309e+00,  2.1309e+00],\n",
       "           [ 2.1309e+00,  2.1147e+00,  2.1309e+00,  ...,  2.1309e+00,\n",
       "             2.1309e+00,  2.1309e+00],\n",
       "           [ 2.1309e+00,  2.1309e+00,  2.1309e+00,  ...,  2.1309e+00,\n",
       "             2.1309e+00,  2.1309e+00],\n",
       "           ...,\n",
       "           [ 2.1309e+00,  2.1309e+00,  2.1309e+00,  ...,  2.1309e+00,\n",
       "             2.1309e+00,  2.1309e+00],\n",
       "           [ 2.1309e+00,  2.1147e+00,  2.1309e+00,  ...,  2.1309e+00,\n",
       "             2.1309e+00,  2.1309e+00],\n",
       "           [ 2.1309e+00,  2.1309e+00,  2.1309e+00,  ...,  2.1309e+00,\n",
       "             2.1309e+00,  2.1309e+00]],\n",
       " \n",
       "          [[ 2.1207e+00,  2.1207e+00,  2.1207e+00,  ...,  2.1207e+00,\n",
       "             2.1207e+00,  2.1207e+00],\n",
       "           [ 2.1207e+00,  2.1057e+00,  2.1207e+00,  ...,  2.1207e+00,\n",
       "             2.1207e+00,  2.1207e+00],\n",
       "           [ 2.1207e+00,  2.1207e+00,  2.1207e+00,  ...,  2.1207e+00,\n",
       "             2.1207e+00,  2.1207e+00],\n",
       "           ...,\n",
       "           [ 2.1207e+00,  2.1207e+00,  2.1207e+00,  ...,  2.1207e+00,\n",
       "             2.1207e+00,  2.1207e+00],\n",
       "           [ 2.1207e+00,  2.1057e+00,  2.1207e+00,  ...,  2.1207e+00,\n",
       "             2.1207e+00,  2.1207e+00],\n",
       "           [ 2.1207e+00,  2.1207e+00,  2.1207e+00,  ...,  2.1207e+00,\n",
       "             2.1207e+00,  2.1207e+00]]],\n",
       " \n",
       " \n",
       "         [[[ 1.2653e+00,  1.3923e+00,  1.3447e+00,  ..., -1.0013e-01,\n",
       "            -1.7952e-01, -3.7004e-01],\n",
       "           [ 9.9536e-01,  1.1065e+00,  1.1224e+00,  ...,  1.1003e-02,\n",
       "            -1.1601e-01, -3.0653e-01],\n",
       "           [ 1.0430e+00,  1.0906e+00,  1.0747e+00,  ..., -4.8742e-03,\n",
       "            -5.2505e-02, -2.5890e-01],\n",
       "           ...,\n",
       "           [-4.8118e-01, -4.9705e-01, -5.7644e-01,  ..., -6.3995e-01,\n",
       "            -7.9871e-01, -1.0686e+00],\n",
       "           [-6.5582e-01, -6.2407e-01, -6.7170e-01,  ..., -6.0819e-01,\n",
       "            -6.5582e-01, -8.6222e-01],\n",
       "           [-5.7644e-01, -5.2881e-01, -5.1293e-01,  ..., -7.1933e-01,\n",
       "            -7.5108e-01, -8.7810e-01]],\n",
       " \n",
       "          [[ 1.6951e+00,  1.8565e+00,  1.8242e+00,  ...,  1.0657e+00,\n",
       "             9.6892e-01,  6.3002e-01],\n",
       "           [ 1.4692e+00,  1.6144e+00,  1.6629e+00,  ...,  1.0980e+00,\n",
       "             9.5278e-01,  5.8160e-01],\n",
       "           [ 1.5338e+00,  1.6306e+00,  1.6306e+00,  ...,  1.0173e+00,\n",
       "             9.3664e-01,  5.8160e-01],\n",
       "           ...,\n",
       "           [-2.2530e-01, -2.4144e-01, -2.8986e-01,  ..., -4.5124e-01,\n",
       "            -6.1262e-01, -9.1924e-01],\n",
       "           [-3.5441e-01, -3.2213e-01, -3.3827e-01,  ..., -4.1896e-01,\n",
       "            -4.6738e-01, -6.7717e-01],\n",
       "           [-2.8986e-01, -2.2530e-01, -1.9303e-01,  ..., -5.1579e-01,\n",
       "            -5.6421e-01, -7.0945e-01]],\n",
       " \n",
       "          [[ 1.8953e+00,  2.0305e+00,  2.0456e+00,  ...,  1.8502e+00,\n",
       "             1.7901e+00,  1.4295e+00],\n",
       "           [ 1.8052e+00,  1.8953e+00,  1.9404e+00,  ...,  1.8052e+00,\n",
       "             1.6850e+00,  1.2943e+00],\n",
       "           [ 1.9254e+00,  1.9704e+00,  1.9554e+00,  ...,  1.7000e+00,\n",
       "             1.6399e+00,  1.2643e+00],\n",
       "           ...,\n",
       "           [-8.2424e-01, -8.6932e-01, -9.4444e-01,  ..., -9.5947e-01,\n",
       "            -1.0196e+00, -1.1398e+00],\n",
       "           [-9.1439e-01, -9.4444e-01, -1.0045e+00,  ..., -8.6932e-01,\n",
       "            -8.5429e-01, -9.7449e-01],\n",
       "           [-9.7449e-01, -9.7449e-01, -9.8952e-01,  ..., -1.0045e+00,\n",
       "            -1.0196e+00, -1.0797e+00]]],\n",
       " \n",
       " \n",
       "         ...,\n",
       " \n",
       " \n",
       "         [[[-1.9260e+00, -1.8148e+00, -1.7354e+00,  ..., -1.6084e+00,\n",
       "            -1.6084e+00, -1.6878e+00],\n",
       "           [-1.9101e+00, -1.9101e+00, -1.9418e+00,  ..., -1.5449e+00,\n",
       "            -1.5290e+00, -1.6084e+00],\n",
       "           [-1.7831e+00, -1.7196e+00, -1.9101e+00,  ..., -1.5449e+00,\n",
       "            -1.5449e+00, -1.5926e+00],\n",
       "           ...,\n",
       "           [-5.7644e-01, -2.5890e-01, -4.9705e-01,  ..., -1.0210e+00,\n",
       "            -8.3047e-01, -7.6696e-01],\n",
       "           [-5.6056e-01, -2.9066e-01, -2.9066e-01,  ..., -9.5748e-01,\n",
       "            -8.4634e-01, -9.7336e-01],\n",
       "           [-4.9705e-01, -4.0179e-01, -5.9232e-01,  ..., -1.0210e+00,\n",
       "            -1.0686e+00, -1.0527e+00]],\n",
       " \n",
       "          [[-1.9037e+00, -1.8068e+00, -1.7262e+00,  ..., -1.3711e+00,\n",
       "            -1.4034e+00, -1.5325e+00],\n",
       "           [-1.8875e+00, -1.8875e+00, -1.9198e+00,  ..., -1.2420e+00,\n",
       "            -1.2743e+00, -1.4357e+00],\n",
       "           [-1.7262e+00, -1.6616e+00, -1.8391e+00,  ..., -1.2420e+00,\n",
       "            -1.2743e+00, -1.4034e+00],\n",
       "           ...,\n",
       "           [-3.2213e-01,  6.5182e-02, -1.2848e-01,  ..., -4.5124e-01,\n",
       "            -2.4144e-01, -3.0600e-01],\n",
       "           [-3.0600e-01,  3.2906e-02,  8.1320e-02,  ..., -3.7055e-01,\n",
       "            -2.7372e-01, -5.3193e-01],\n",
       "           [-2.4144e-01, -8.0061e-02, -2.2530e-01,  ..., -4.5124e-01,\n",
       "            -4.8351e-01, -5.9648e-01]],\n",
       " \n",
       "          [[-1.4854e+00, -1.3651e+00, -1.3050e+00,  ..., -1.0196e+00,\n",
       "            -1.0346e+00, -1.1999e+00],\n",
       "           [-1.4252e+00, -1.4102e+00, -1.4403e+00,  ..., -8.6932e-01,\n",
       "            -8.8434e-01, -1.0646e+00],\n",
       "           [-1.3201e+00, -1.2299e+00, -1.3952e+00,  ..., -9.1439e-01,\n",
       "            -9.2942e-01, -1.0646e+00],\n",
       "           ...,\n",
       "           [-2.8334e-01,  4.7217e-02, -1.6314e-01,  ..., -5.2374e-01,\n",
       "            -4.1856e-01, -4.3359e-01],\n",
       "           [-2.5329e-01,  4.7217e-02,  7.7267e-02,  ..., -4.6364e-01,\n",
       "            -4.0354e-01, -5.6882e-01],\n",
       "           [-1.6314e-01, -2.7909e-02, -1.3309e-01,  ..., -5.3876e-01,\n",
       "            -5.6882e-01, -5.9887e-01]]],\n",
       " \n",
       " \n",
       "         [[[ 3.2854e-01,  3.4442e-01,  6.7783e-01,  ...,  6.1432e-01,\n",
       "             4.8731e-01,  7.2546e-01],\n",
       "           [ 7.4510e-02,  3.1266e-01,  7.7309e-01,  ...,  5.3494e-01,\n",
       "             4.7143e-01,  5.9844e-01],\n",
       "           [-2.0751e-02,  5.0318e-01,  9.1598e-01,  ...,  8.3660e-01,\n",
       "             8.5247e-01,  8.0484e-01],\n",
       "           ...,\n",
       "           [-6.8381e-02, -6.8381e-02,  1.1003e-02,  ...,  1.2214e-01,\n",
       "             1.2214e-01,  7.4510e-02],\n",
       "           [-4.8742e-03,  2.6879e-02,  1.0626e-01,  ...,  9.0387e-02,\n",
       "             4.2756e-02,  1.3802e-01],\n",
       "           [ 1.2214e-01,  2.0152e-01,  2.3328e-01,  ...,  1.2214e-01,\n",
       "             9.0387e-02,  2.1740e-01]],\n",
       " \n",
       "          [[-1.0968e+00, -2.7372e-01,  4.8477e-01,  ..., -1.0806e+00,\n",
       "            -1.2259e+00, -6.9331e-01],\n",
       "           [-9.9994e-01, -1.5509e-02,  6.3002e-01,  ..., -1.0645e+00,\n",
       "            -1.1290e+00, -6.6103e-01],\n",
       "           [-7.7400e-01,  1.7815e-01,  7.2685e-01,  ..., -9.0311e-01,\n",
       "            -8.7083e-01, -5.1579e-01],\n",
       "           ...,\n",
       "           [ 6.3002e-01,  6.1388e-01,  6.7843e-01,  ...,  8.8823e-01,\n",
       "             8.8823e-01,  8.3981e-01],\n",
       "           [ 7.7526e-01,  7.9140e-01,  8.7209e-01,  ...,  8.7209e-01,\n",
       "             8.2367e-01,  9.3664e-01],\n",
       "           [ 1.0012e+00,  1.0657e+00,  1.0980e+00,  ...,  9.5278e-01,\n",
       "             9.2050e-01,  1.0657e+00]],\n",
       " \n",
       "          [[-7.3409e-01, -1.9319e-01,  2.4254e-01,  ..., -9.2942e-01,\n",
       "            -9.7449e-01, -5.6882e-01],\n",
       "           [-7.1907e-01, -5.7960e-02,  3.7777e-01,  ..., -1.0496e+00,\n",
       "            -1.0797e+00, -8.0922e-01],\n",
       "           [-5.6882e-01,  9.2292e-02,  4.6792e-01,  ..., -8.8434e-01,\n",
       "            -8.8434e-01, -7.6414e-01],\n",
       "           ...,\n",
       "           [ 6.7827e-01,  6.6325e-01,  7.3837e-01,  ...,  9.0365e-01,\n",
       "             9.0365e-01,  8.4355e-01],\n",
       "           [ 8.1350e-01,  8.2853e-01,  9.1868e-01,  ...,  8.4355e-01,\n",
       "             7.8345e-01,  9.0365e-01],\n",
       "           [ 1.0239e+00,  1.0689e+00,  1.1140e+00,  ...,  9.1868e-01,\n",
       "             8.4355e-01,  1.0088e+00]]],\n",
       " \n",
       " \n",
       "         [[[ 8.8423e-01,  2.0152e-01, -1.7952e-01,  ...,  4.2380e-01,\n",
       "             5.6669e-01,  8.8423e-01],\n",
       "           [ 1.1700e+00, -8.4258e-02, -3.3829e-01,  ...,  2.3328e-01,\n",
       "             6.1432e-01,  7.7309e-01],\n",
       "           [ 9.9536e-01, -8.4258e-02, -8.4258e-02,  ...,  3.7617e-01,\n",
       "             2.1740e-01,  4.7143e-01],\n",
       "           ...,\n",
       "           [-4.1767e-01, -1.9540e-01, -1.6364e-01,  ..., -3.2241e-01,\n",
       "            -5.9232e-01, -4.4942e-01],\n",
       "           [-6.8758e-01, -4.3355e-01, -4.4942e-01,  ..., -1.4777e-01,\n",
       "            -4.1767e-01, -1.6364e-01],\n",
       "           [-1.9540e-01, -2.0751e-02, -3.0653e-01,  ..., -5.6056e-01,\n",
       "            -2.9066e-01, -3.3829e-01]],\n",
       " \n",
       "          [[ 8.0754e-01,  2.1043e-01, -9.6199e-02,  ...,  2.4270e-01,\n",
       "             3.8794e-01,  7.5912e-01],\n",
       "           [ 1.0496e+00, -1.2848e-01, -3.2213e-01,  ...,  3.2906e-02,\n",
       "             3.8794e-01,  6.3002e-01],\n",
       "           [ 8.5595e-01, -1.2848e-01, -6.3923e-02,  ...,  2.1043e-01,\n",
       "             6.2941e-04,  3.0725e-01],\n",
       "           ...,\n",
       "           [-5.9648e-01, -3.5441e-01, -3.3827e-01,  ..., -4.3510e-01,\n",
       "            -7.9014e-01, -5.1579e-01],\n",
       "           [-8.5469e-01, -5.8034e-01, -6.1262e-01,  ..., -2.2530e-01,\n",
       "            -6.1262e-01, -2.2530e-01],\n",
       "           [-3.8669e-01, -1.9303e-01, -5.1579e-01,  ..., -6.4490e-01,\n",
       "            -4.5124e-01, -4.5124e-01]],\n",
       " \n",
       "          [[ 1.8244e-01, -3.7349e-01, -6.2892e-01,  ..., -2.8334e-01,\n",
       "            -1.6314e-01,  2.4254e-01],\n",
       "           [ 4.2285e-01, -6.4394e-01, -7.7917e-01,  ..., -5.0871e-01,\n",
       "            -2.3826e-01,  1.7166e-02],\n",
       "           [ 2.8762e-01, -5.8384e-01, -5.0871e-01,  ..., -3.5846e-01,\n",
       "            -6.1389e-01, -2.8334e-01],\n",
       "           ...,\n",
       "           [-8.8434e-01, -7.9419e-01, -7.6414e-01,  ..., -7.9419e-01,\n",
       "            -1.0346e+00, -9.2942e-01],\n",
       "           [-1.2149e+00, -1.0496e+00, -1.0346e+00,  ..., -5.8384e-01,\n",
       "            -8.8434e-01, -6.5897e-01],\n",
       "           [-8.9937e-01, -6.8902e-01, -8.6932e-01,  ..., -8.9937e-01,\n",
       "            -7.3409e-01, -7.7917e-01]]]]),\n",
       " tensor([2, 8, 7, 2, 2, 5, 1, 2, 6, 2, 9, 6, 2, 3, 0, 3, 9, 8, 7, 8, 8, 4, 0, 1,\n",
       "         8, 2, 7, 9, 3, 6, 1, 9, 0, 7, 3, 7, 4, 5, 0, 0, 2, 9, 3, 4, 0, 6, 2, 5,\n",
       "         3, 7, 3, 7, 2, 5, 3, 1, 1, 4, 9, 9, 5, 7, 5, 0, 2, 2, 2, 9, 7, 3, 9, 4,\n",
       "         3, 5, 4, 6, 5, 6, 1, 4, 3, 4, 4, 3, 7, 8, 3, 7, 8, 0, 5, 7, 6, 0, 5, 4,\n",
       "         8, 6, 8, 5, 5, 9, 9, 9, 5, 0, 1, 0, 8, 1, 1, 8, 0, 2, 2, 0, 4, 6, 5, 4,\n",
       "         9, 4, 7, 9, 9, 4, 5, 6])]"
      ]
     },
     "execution_count": 11,
     "metadata": {},
     "output_type": "execute_result"
    }
   ],
   "source": [
    "next(dl)"
   ]
  },
  {
   "cell_type": "code",
   "execution_count": 16,
   "metadata": {},
   "outputs": [],
   "source": [
    "inputs_og = next(iter(val_loader))"
   ]
  },
  {
   "cell_type": "code",
   "execution_count": 15,
   "metadata": {},
   "outputs": [],
   "source": [
    "adv_samples = torch.load(\"/bigstor/zsarwar/SparseDNNs/MT_CIFAR10_full_10_d5f3f545a0883adb9c8f98e2a6ba4ac7/MT_Baseline_d2a45a4dd02a5e037e5954b82387e666/CW/samples.pt\")"
   ]
  },
  {
   "cell_type": "code",
   "execution_count": 33,
   "metadata": {},
   "outputs": [],
   "source": [
    "input_batch = [adv_samples, inputs_og[1]]"
   ]
  },
  {
   "cell_type": "markdown",
   "metadata": {},
   "source": [
    "# Random"
   ]
  },
  {
   "cell_type": "code",
   "execution_count": 2,
   "metadata": {},
   "outputs": [],
   "source": [
    "import torch\n",
    "from torchvision.models import resnet18"
   ]
  },
  {
   "cell_type": "code",
   "execution_count": 3,
   "metadata": {},
   "outputs": [
    {
     "data": {
      "text/plain": [
       "ResNet(\n",
       "  (conv1): Conv2d(3, 64, kernel_size=(7, 7), stride=(2, 2), padding=(3, 3), bias=False)\n",
       "  (bn1): BatchNorm2d(64, eps=1e-05, momentum=0.1, affine=True, track_running_stats=True)\n",
       "  (relu): ReLU(inplace=True)\n",
       "  (maxpool): MaxPool2d(kernel_size=3, stride=2, padding=1, dilation=1, ceil_mode=False)\n",
       "  (layer1): Sequential(\n",
       "    (0): BasicBlock(\n",
       "      (conv1): Conv2d(64, 64, kernel_size=(3, 3), stride=(1, 1), padding=(1, 1), bias=False)\n",
       "      (bn1): BatchNorm2d(64, eps=1e-05, momentum=0.1, affine=True, track_running_stats=True)\n",
       "      (relu): ReLU(inplace=True)\n",
       "      (conv2): Conv2d(64, 64, kernel_size=(3, 3), stride=(1, 1), padding=(1, 1), bias=False)\n",
       "      (bn2): BatchNorm2d(64, eps=1e-05, momentum=0.1, affine=True, track_running_stats=True)\n",
       "    )\n",
       "    (1): BasicBlock(\n",
       "      (conv1): Conv2d(64, 64, kernel_size=(3, 3), stride=(1, 1), padding=(1, 1), bias=False)\n",
       "      (bn1): BatchNorm2d(64, eps=1e-05, momentum=0.1, affine=True, track_running_stats=True)\n",
       "      (relu): ReLU(inplace=True)\n",
       "      (conv2): Conv2d(64, 64, kernel_size=(3, 3), stride=(1, 1), padding=(1, 1), bias=False)\n",
       "      (bn2): BatchNorm2d(64, eps=1e-05, momentum=0.1, affine=True, track_running_stats=True)\n",
       "    )\n",
       "  )\n",
       "  (layer2): Sequential(\n",
       "    (0): BasicBlock(\n",
       "      (conv1): Conv2d(64, 128, kernel_size=(3, 3), stride=(2, 2), padding=(1, 1), bias=False)\n",
       "      (bn1): BatchNorm2d(128, eps=1e-05, momentum=0.1, affine=True, track_running_stats=True)\n",
       "      (relu): ReLU(inplace=True)\n",
       "      (conv2): Conv2d(128, 128, kernel_size=(3, 3), stride=(1, 1), padding=(1, 1), bias=False)\n",
       "      (bn2): BatchNorm2d(128, eps=1e-05, momentum=0.1, affine=True, track_running_stats=True)\n",
       "      (downsample): Sequential(\n",
       "        (0): Conv2d(64, 128, kernel_size=(1, 1), stride=(2, 2), bias=False)\n",
       "        (1): BatchNorm2d(128, eps=1e-05, momentum=0.1, affine=True, track_running_stats=True)\n",
       "      )\n",
       "    )\n",
       "    (1): BasicBlock(\n",
       "      (conv1): Conv2d(128, 128, kernel_size=(3, 3), stride=(1, 1), padding=(1, 1), bias=False)\n",
       "      (bn1): BatchNorm2d(128, eps=1e-05, momentum=0.1, affine=True, track_running_stats=True)\n",
       "      (relu): ReLU(inplace=True)\n",
       "      (conv2): Conv2d(128, 128, kernel_size=(3, 3), stride=(1, 1), padding=(1, 1), bias=False)\n",
       "      (bn2): BatchNorm2d(128, eps=1e-05, momentum=0.1, affine=True, track_running_stats=True)\n",
       "    )\n",
       "  )\n",
       "  (layer3): Sequential(\n",
       "    (0): BasicBlock(\n",
       "      (conv1): Conv2d(128, 256, kernel_size=(3, 3), stride=(2, 2), padding=(1, 1), bias=False)\n",
       "      (bn1): BatchNorm2d(256, eps=1e-05, momentum=0.1, affine=True, track_running_stats=True)\n",
       "      (relu): ReLU(inplace=True)\n",
       "      (conv2): Conv2d(256, 256, kernel_size=(3, 3), stride=(1, 1), padding=(1, 1), bias=False)\n",
       "      (bn2): BatchNorm2d(256, eps=1e-05, momentum=0.1, affine=True, track_running_stats=True)\n",
       "      (downsample): Sequential(\n",
       "        (0): Conv2d(128, 256, kernel_size=(1, 1), stride=(2, 2), bias=False)\n",
       "        (1): BatchNorm2d(256, eps=1e-05, momentum=0.1, affine=True, track_running_stats=True)\n",
       "      )\n",
       "    )\n",
       "    (1): BasicBlock(\n",
       "      (conv1): Conv2d(256, 256, kernel_size=(3, 3), stride=(1, 1), padding=(1, 1), bias=False)\n",
       "      (bn1): BatchNorm2d(256, eps=1e-05, momentum=0.1, affine=True, track_running_stats=True)\n",
       "      (relu): ReLU(inplace=True)\n",
       "      (conv2): Conv2d(256, 256, kernel_size=(3, 3), stride=(1, 1), padding=(1, 1), bias=False)\n",
       "      (bn2): BatchNorm2d(256, eps=1e-05, momentum=0.1, affine=True, track_running_stats=True)\n",
       "    )\n",
       "  )\n",
       "  (layer4): Sequential(\n",
       "    (0): BasicBlock(\n",
       "      (conv1): Conv2d(256, 512, kernel_size=(3, 3), stride=(2, 2), padding=(1, 1), bias=False)\n",
       "      (bn1): BatchNorm2d(512, eps=1e-05, momentum=0.1, affine=True, track_running_stats=True)\n",
       "      (relu): ReLU(inplace=True)\n",
       "      (conv2): Conv2d(512, 512, kernel_size=(3, 3), stride=(1, 1), padding=(1, 1), bias=False)\n",
       "      (bn2): BatchNorm2d(512, eps=1e-05, momentum=0.1, affine=True, track_running_stats=True)\n",
       "      (downsample): Sequential(\n",
       "        (0): Conv2d(256, 512, kernel_size=(1, 1), stride=(2, 2), bias=False)\n",
       "        (1): BatchNorm2d(512, eps=1e-05, momentum=0.1, affine=True, track_running_stats=True)\n",
       "      )\n",
       "    )\n",
       "    (1): BasicBlock(\n",
       "      (conv1): Conv2d(512, 512, kernel_size=(3, 3), stride=(1, 1), padding=(1, 1), bias=False)\n",
       "      (bn1): BatchNorm2d(512, eps=1e-05, momentum=0.1, affine=True, track_running_stats=True)\n",
       "      (relu): ReLU(inplace=True)\n",
       "      (conv2): Conv2d(512, 512, kernel_size=(3, 3), stride=(1, 1), padding=(1, 1), bias=False)\n",
       "      (bn2): BatchNorm2d(512, eps=1e-05, momentum=0.1, affine=True, track_running_stats=True)\n",
       "    )\n",
       "  )\n",
       "  (avgpool): AdaptiveAvgPool2d(output_size=(1, 1))\n",
       "  (fc): Linear(in_features=512, out_features=1000, bias=True)\n",
       ")"
      ]
     },
     "execution_count": 3,
     "metadata": {},
     "output_type": "execute_result"
    }
   ],
   "source": [
    "model = resnet18()\n",
    "model"
   ]
  },
  {
   "cell_type": "code",
   "execution_count": null,
   "metadata": {},
   "outputs": [],
   "source": []
  }
 ],
 "metadata": {
  "kernelspec": {
   "display_name": "ffcv",
   "language": "python",
   "name": "python3"
  },
  "language_info": {
   "codemirror_mode": {
    "name": "ipython",
    "version": 3
   },
   "file_extension": ".py",
   "mimetype": "text/x-python",
   "name": "python",
   "nbconvert_exporter": "python",
   "pygments_lexer": "ipython3",
   "version": "3.9.16"
  }
 },
 "nbformat": 4,
 "nbformat_minor": 2
}
