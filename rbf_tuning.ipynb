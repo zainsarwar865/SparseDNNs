{
 "cells": [
  {
   "cell_type": "code",
   "execution_count": 1,
   "metadata": {},
   "outputs": [],
   "source": [
    "import pickle\n",
    "import pandas as pd\n",
    "import numpy as np\n",
    "import torchvision\n",
    "from torch.utils.data import DataLoader, Subset\n",
    "import torchvision.transforms as transforms\n",
    "import torch\n",
    "from sklearn.svm import SVC"
   ]
  },
  {
   "cell_type": "code",
   "execution_count": 2,
   "metadata": {},
   "outputs": [],
   "source": [
    "import os\n",
    "os.environ[\"CUDA_VISIBLE_DEVICES\"]=\"1\""
   ]
  },
  {
   "cell_type": "code",
   "execution_count": 3,
   "metadata": {},
   "outputs": [],
   "source": [
    "\"\"\"\n",
    "def load_data(path, label):\n",
    "    with open(path, 'rb') as iffile:\n",
    "        features = pickle.load(iffile)\n",
    "    layer = 'view'\n",
    "    features = features[layer]\n",
    "    features_matrix = None\n",
    "\n",
    "    for i in range(len(features)):\n",
    "        if isinstance(features_matrix, torch.Tensor):\n",
    "            features_matrix = torch.cat((   features_matrix, features[i]))\n",
    "        else:\n",
    "            features_matrix = features[i]\n",
    "\n",
    "    features = None    \n",
    "    features_matrix = torch.flatten(features_matrix, start_dim=1, end_dim=-1)\n",
    "    y = np.empty(features_matrix.shape[0])\n",
    "    y.fill(label)\n",
    "    return [features_matrix, y]\n",
    "\"\"\"\n",
    "\n",
    "def load_data(path, label):\n",
    "    features_matrix = torch.load(path)\n",
    "    y = np.empty(features_matrix.shape[0])\n",
    "    y.fill(label)\n",
    "    return [features_matrix, y]\n",
    "\n",
    "def unison_shuffled_copies_ind(X, y):\n",
    "    assert len(X) == len(y)\n",
    "    p = np.random.permutation(len(X))\n",
    "    return X[p], y[p]\n",
    "\n",
    "\n",
    "def unison_shuffled_copies(x_ben, y_ben, x_adv, y_adv):\n",
    "    X = np.concatenate((x_ben, x_adv), axis=0)\n",
    "    y = np.concatenate((y_ben, y_adv), axis=0)\n",
    "    assert len(X) == len(y)\n",
    "    p = np.random.permutation(len(X))\n",
    "    return X[p], y[p]\n",
    "\n",
    "\n",
    "def get_paths(base_path):\n",
    "    attack=\"CW\"\n",
    "    total_attack_samples = 5120\n",
    "    integrated = False\n",
    "    relu_dir = \"ReLUs\"\n",
    "    detector_type='Regular'\n",
    "    train_benign = f\"ReLUs_{attack}_train_benign_{total_attack_samples}_detector-type-{detector_type}_integrated-{integrated}.pth\"\n",
    "    train_adversarial = f\"ReLUs_{attack}_train_adversarial_{total_attack_samples}_detector-type-{detector_type}_integrated-{integrated}.pth\"\n",
    "    test_benign = f\"ReLUs_{attack}_test_benign_{total_attack_samples}_detector-type-{detector_type}_integrated-{integrated}.pth\"\n",
    "    test_adversarial = f\"ReLUs_{attack}_test_adversarial_{total_attack_samples}_detector-type-{detector_type}_integrated-{integrated}.pth\"\n",
    "\n",
    "    train_benign = os.path.join(base_path, relu_dir, train_benign)\n",
    "    train_adversarial = os.path.join(base_path, relu_dir,  train_adversarial)\n",
    "    test_benign = os.path.join(base_path,  relu_dir, test_benign)\n",
    "    test_adversarial = os.path.join(base_path,  relu_dir, test_adversarial)\n",
    "\n",
    "    all_paths = [train_benign,train_adversarial,test_benign,test_adversarial]\n",
    "\n",
    "    return all_paths\n",
    "\n",
    "\n"
   ]
  },
  {
   "cell_type": "code",
   "execution_count": 4,
   "metadata": {},
   "outputs": [],
   "source": [
    "def quantize(X):\n",
    "    X[0] = torch.where(X[0] > 0, torch.ones_like(X[0]), torch.zeros_like(X[0]))\n",
    "    return X"
   ]
  },
  {
   "cell_type": "code",
   "execution_count": 5,
   "metadata": {},
   "outputs": [
    {
     "data": {
      "text/plain": [
       "'\\ntrain_benign = quantize(train_benign)\\ntrain_adversarial = quantize(train_adversarial)\\ntest_benign = quantize(test_benign)\\ntest_adversarial = quantize(test_adversarial)\\n'"
      ]
     },
     "execution_count": 5,
     "metadata": {},
     "output_type": "execute_result"
    }
   ],
   "source": [
    "expr_dir = \"/bigstor/zsarwar/SparseDNNs/MT_CIFAR10_full_10_d5f3f545a0883adb9c8f98e2a6ba4ac7/MT_Baseline_32efd89f04333501e1d66bc4e1d4260f\"\n",
    "\n",
    "train_benign,train_adversarial,test_benign,test_adversarial = get_paths(expr_dir)\n",
    "train_benign = load_data(train_benign, 1)\n",
    "train_adversarial = load_data(train_adversarial, -1)\n",
    "test_benign = load_data(test_benign, 1)\n",
    "test_adversarial = load_data(test_adversarial, -1)\n",
    "\n",
    "\"\"\"\n",
    "train_benign = quantize(train_benign)\n",
    "train_adversarial = quantize(train_adversarial)\n",
    "test_benign = quantize(test_benign)\n",
    "test_adversarial = quantize(test_adversarial)\n",
    "\"\"\""
   ]
  },
  {
   "cell_type": "code",
   "execution_count": 6,
   "metadata": {},
   "outputs": [],
   "source": [
    "X_train, y_train = unison_shuffled_copies(train_benign[0], train_benign[1], train_adversarial[0], train_adversarial[1])\n",
    "\n",
    "X_test, y_test = unison_shuffled_copies(test_benign[0], test_benign[1], test_adversarial[0], test_adversarial[1])\n",
    "\n"
   ]
  },
  {
   "cell_type": "code",
   "execution_count": 32,
   "metadata": {},
   "outputs": [
    {
     "data": {
      "text/html": [
       "<style>#sk-container-id-13 {color: black;}#sk-container-id-13 pre{padding: 0;}#sk-container-id-13 div.sk-toggleable {background-color: white;}#sk-container-id-13 label.sk-toggleable__label {cursor: pointer;display: block;width: 100%;margin-bottom: 0;padding: 0.3em;box-sizing: border-box;text-align: center;}#sk-container-id-13 label.sk-toggleable__label-arrow:before {content: \"▸\";float: left;margin-right: 0.25em;color: #696969;}#sk-container-id-13 label.sk-toggleable__label-arrow:hover:before {color: black;}#sk-container-id-13 div.sk-estimator:hover label.sk-toggleable__label-arrow:before {color: black;}#sk-container-id-13 div.sk-toggleable__content {max-height: 0;max-width: 0;overflow: hidden;text-align: left;background-color: #f0f8ff;}#sk-container-id-13 div.sk-toggleable__content pre {margin: 0.2em;color: black;border-radius: 0.25em;background-color: #f0f8ff;}#sk-container-id-13 input.sk-toggleable__control:checked~div.sk-toggleable__content {max-height: 200px;max-width: 100%;overflow: auto;}#sk-container-id-13 input.sk-toggleable__control:checked~label.sk-toggleable__label-arrow:before {content: \"▾\";}#sk-container-id-13 div.sk-estimator input.sk-toggleable__control:checked~label.sk-toggleable__label {background-color: #d4ebff;}#sk-container-id-13 div.sk-label input.sk-toggleable__control:checked~label.sk-toggleable__label {background-color: #d4ebff;}#sk-container-id-13 input.sk-hidden--visually {border: 0;clip: rect(1px 1px 1px 1px);clip: rect(1px, 1px, 1px, 1px);height: 1px;margin: -1px;overflow: hidden;padding: 0;position: absolute;width: 1px;}#sk-container-id-13 div.sk-estimator {font-family: monospace;background-color: #f0f8ff;border: 1px dotted black;border-radius: 0.25em;box-sizing: border-box;margin-bottom: 0.5em;}#sk-container-id-13 div.sk-estimator:hover {background-color: #d4ebff;}#sk-container-id-13 div.sk-parallel-item::after {content: \"\";width: 100%;border-bottom: 1px solid gray;flex-grow: 1;}#sk-container-id-13 div.sk-label:hover label.sk-toggleable__label {background-color: #d4ebff;}#sk-container-id-13 div.sk-serial::before {content: \"\";position: absolute;border-left: 1px solid gray;box-sizing: border-box;top: 0;bottom: 0;left: 50%;z-index: 0;}#sk-container-id-13 div.sk-serial {display: flex;flex-direction: column;align-items: center;background-color: white;padding-right: 0.2em;padding-left: 0.2em;position: relative;}#sk-container-id-13 div.sk-item {position: relative;z-index: 1;}#sk-container-id-13 div.sk-parallel {display: flex;align-items: stretch;justify-content: center;background-color: white;position: relative;}#sk-container-id-13 div.sk-item::before, #sk-container-id-13 div.sk-parallel-item::before {content: \"\";position: absolute;border-left: 1px solid gray;box-sizing: border-box;top: 0;bottom: 0;left: 50%;z-index: -1;}#sk-container-id-13 div.sk-parallel-item {display: flex;flex-direction: column;z-index: 1;position: relative;background-color: white;}#sk-container-id-13 div.sk-parallel-item:first-child::after {align-self: flex-end;width: 50%;}#sk-container-id-13 div.sk-parallel-item:last-child::after {align-self: flex-start;width: 50%;}#sk-container-id-13 div.sk-parallel-item:only-child::after {width: 0;}#sk-container-id-13 div.sk-dashed-wrapped {border: 1px dashed gray;margin: 0 0.4em 0.5em 0.4em;box-sizing: border-box;padding-bottom: 0.4em;background-color: white;}#sk-container-id-13 div.sk-label label {font-family: monospace;font-weight: bold;display: inline-block;line-height: 1.2em;}#sk-container-id-13 div.sk-label-container {text-align: center;}#sk-container-id-13 div.sk-container {/* jupyter's `normalize.less` sets `[hidden] { display: none; }` but bootstrap.min.css set `[hidden] { display: none !important; }` so we also need the `!important` here to be able to override the default hidden behavior on the sphinx rendered scikit-learn.org. See: https://github.com/scikit-learn/scikit-learn/issues/21755 */display: inline-block !important;position: relative;}#sk-container-id-13 div.sk-text-repr-fallback {display: none;}</style><div id=\"sk-container-id-13\" class=\"sk-top-container\"><div class=\"sk-text-repr-fallback\"><pre>SVC(C=0.9, gamma=0.9)</pre><b>In a Jupyter environment, please rerun this cell to show the HTML representation or trust the notebook. <br />On GitHub, the HTML representation is unable to render, please try loading this page with nbviewer.org.</b></div><div class=\"sk-container\" hidden><div class=\"sk-item\"><div class=\"sk-estimator sk-toggleable\"><input class=\"sk-toggleable__control sk-hidden--visually\" id=\"sk-estimator-id-13\" type=\"checkbox\" checked><label for=\"sk-estimator-id-13\" class=\"sk-toggleable__label sk-toggleable__label-arrow\">SVC</label><div class=\"sk-toggleable__content\"><pre>SVC(C=0.9, gamma=0.9)</pre></div></div></div></div></div>"
      ],
      "text/plain": [
       "SVC(C=0.9, gamma=0.9)"
      ]
     },
     "execution_count": 32,
     "metadata": {},
     "output_type": "execute_result"
    }
   ],
   "source": [
    "clf = SVC(C=0.9, gamma=0.9)\n",
    "clf.fit(X_train, y_train)\n"
   ]
  },
  {
   "cell_type": "code",
   "execution_count": 34,
   "metadata": {},
   "outputs": [
    {
     "name": "stdout",
     "output_type": "stream",
     "text": [
      "Testing benign acc : 0.88384484228474\n",
      "Testing adversarial acc : 0.7414748508098892\n"
     ]
    }
   ],
   "source": [
    "x_test_ben_pred = clf.predict(test_benign[0])\n",
    "test_ben_acc = len(np.where(x_test_ben_pred == test_benign[1])[0]) / len(x_test_ben_pred)\n",
    "\n",
    "x_test_adv_pred = clf.predict(test_adversarial[0])\n",
    "test_adv_acc = len(np.where(x_test_adv_pred == test_adversarial[1])[0]) / len(x_test_adv_pred)\n",
    "\n",
    "print(f\"Testing benign acc : {test_ben_acc}\")\n",
    "print(f\"Testing adversarial acc : {test_adv_acc}\")\n",
    "\n"
   ]
  },
  {
   "cell_type": "code",
   "execution_count": 37,
   "metadata": {},
   "outputs": [],
   "source": [
    "preds = clf.decision_function(test_benign[0])"
   ]
  },
  {
   "cell_type": "code",
   "execution_count": 40,
   "metadata": {},
   "outputs": [
    {
     "data": {
      "text/plain": [
       "array([ 1.05428569, -1.07773308,  1.04702351,  0.60301341, -0.20814674,\n",
       "        0.8399075 ,  0.93116594,  0.95910537,  0.25173906,  1.00739493])"
      ]
     },
     "execution_count": 40,
     "metadata": {},
     "output_type": "execute_result"
    }
   ],
   "source": [
    "preds[0:10]"
   ]
  },
  {
   "cell_type": "code",
   "execution_count": 41,
   "metadata": {},
   "outputs": [
    {
     "data": {
      "text/plain": [
       "array([ 1., -1.,  1.,  1., -1.,  1.,  1.,  1.,  1.,  1.])"
      ]
     },
     "execution_count": 41,
     "metadata": {},
     "output_type": "execute_result"
    }
   ],
   "source": [
    "x_test_ben_pred[0:10]"
   ]
  },
  {
   "cell_type": "code",
   "execution_count": null,
   "metadata": {},
   "outputs": [],
   "source": []
  }
 ],
 "metadata": {
  "kernelspec": {
   "display_name": "ffcv",
   "language": "python",
   "name": "python3"
  },
  "language_info": {
   "codemirror_mode": {
    "name": "ipython",
    "version": 3
   },
   "file_extension": ".py",
   "mimetype": "text/x-python",
   "name": "python",
   "nbconvert_exporter": "python",
   "pygments_lexer": "ipython3",
   "version": "3.9.16"
  }
 },
 "nbformat": 4,
 "nbformat_minor": 2
}
