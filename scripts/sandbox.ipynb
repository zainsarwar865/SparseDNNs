{
 "cells": [
  {
   "cell_type": "code",
   "execution_count": 1,
   "metadata": {},
   "outputs": [],
   "source": [
    "import torch\n",
    "from torchvision.models import resnet18\n",
    "import pickle\n",
    "import numpy as np\n",
    "from torchvision.models.feature_extraction import create_feature_extractor, get_graph_node_names"
   ]
  },
  {
   "cell_type": "code",
   "execution_count": 2,
   "metadata": {},
   "outputs": [],
   "source": [
    "model = resnet18()"
   ]
  },
  {
   "cell_type": "code",
   "execution_count": 4,
   "metadata": {},
   "outputs": [],
   "source": [
    "x_train, x_test = get_graph_node_names(model)"
   ]
  },
  {
   "cell_type": "code",
   "execution_count": 8,
   "metadata": {},
   "outputs": [],
   "source": [
    "x_test = [l for l in x_test if \"layer\" and \"conv\" in l][1:]"
   ]
  },
  {
   "cell_type": "code",
   "execution_count": 12,
   "metadata": {},
   "outputs": [],
   "source": [
    "dic = {key:key for key in x_test}"
   ]
  },
  {
   "cell_type": "code",
   "execution_count": 13,
   "metadata": {},
   "outputs": [
    {
     "data": {
      "text/plain": [
       "{'layer1.0.conv1': 'layer1.0.conv1',\n",
       " 'layer1.0.conv2': 'layer1.0.conv2',\n",
       " 'layer1.1.conv1': 'layer1.1.conv1',\n",
       " 'layer1.1.conv2': 'layer1.1.conv2',\n",
       " 'layer2.0.conv1': 'layer2.0.conv1',\n",
       " 'layer2.0.conv2': 'layer2.0.conv2',\n",
       " 'layer2.1.conv1': 'layer2.1.conv1',\n",
       " 'layer2.1.conv2': 'layer2.1.conv2',\n",
       " 'layer3.0.conv1': 'layer3.0.conv1',\n",
       " 'layer3.0.conv2': 'layer3.0.conv2',\n",
       " 'layer3.1.conv1': 'layer3.1.conv1',\n",
       " 'layer3.1.conv2': 'layer3.1.conv2',\n",
       " 'layer4.0.conv1': 'layer4.0.conv1',\n",
       " 'layer4.0.conv2': 'layer4.0.conv2',\n",
       " 'layer4.1.conv1': 'layer4.1.conv1',\n",
       " 'layer4.1.conv2': 'layer4.1.conv2'}"
      ]
     },
     "execution_count": 13,
     "metadata": {},
     "output_type": "execute_result"
    }
   ],
   "source": [
    "dic"
   ]
  },
  {
   "cell_type": "code",
   "execution_count": null,
   "metadata": {},
   "outputs": [],
   "source": [
    "xlayer = model.layer1[1].conv1\n",
    "scale_factor = 2\n",
    "kernel_vectors = xlayer.weight.flatten(1)\n",
    "l2_distances = torch.cdist(kernel_vectors, kernel_vectors).triu().unsqueeze(0)\n",
    "l2_blocks = torch.nn.functional.unfold(l2_distances, kernel_size=scale_factor, stride=scale_factor, padding=0).T\n",
    "step_size = (l2_distances.shape[1] // (scale_factor )) + 1\n",
    "extract_indices = torch.arange(0, l2_blocks.shape[0], step=step_size)\n",
    "repulsion_loss = -l2_blocks[extract_indices].sum()"
   ]
  },
  {
   "cell_type": "code",
   "execution_count": null,
   "metadata": {},
   "outputs": [],
   "source": [
    "l2_blocks[extract_indices].sum(dim=1)"
   ]
  },
  {
   "cell_type": "code",
   "execution_count": null,
   "metadata": {},
   "outputs": [],
   "source": [
    "repulsion_loss"
   ]
  },
  {
   "cell_type": "code",
   "execution_count": null,
   "metadata": {},
   "outputs": [],
   "source": [
    "scale_factor=2"
   ]
  },
  {
   "cell_type": "code",
   "execution_count": null,
   "metadata": {},
   "outputs": [],
   "source": [
    "tot_repulsion_loss = 0\n",
    "for name, param in model.named_modules():\n",
    "    if \"conv\" in name and \"layer\" in name:\n",
    "        kernel_vectors = param.weight.flatten(1)\n",
    "        l2_distances = torch.cdist(kernel_vectors, kernel_vectors).triu().unsqueeze(0)\n",
    "        l2_blocks = torch.nn.functional.unfold(l2_distances, kernel_size=scale_factor, stride=scale_factor, padding=0).T\n",
    "        step_size = (l2_distances.shape[1] // (scale_factor )) + 1\n",
    "        extract_indices = torch.arange(0, l2_blocks.shape[0], step=step_size)\n",
    "        repulsion_loss = -l2_blocks[extract_indices].sum()\n",
    "        print(repulsion_loss)\n",
    "        tot_repulsion_loss+=repulsion_loss    "
   ]
  },
  {
   "cell_type": "code",
   "execution_count": null,
   "metadata": {},
   "outputs": [],
   "source": [
    "tot_repulsion_loss*0.0005"
   ]
  },
  {
   "cell_type": "code",
   "execution_count": null,
   "metadata": {},
   "outputs": [],
   "source": []
  },
  {
   "cell_type": "code",
   "execution_count": null,
   "metadata": {},
   "outputs": [],
   "source": [
    "\n",
    "step = 2\n",
    "images = torch.randn((20,10,10))\n",
    "batch_size = images.shape[0]\n",
    "condition = torch.randn((batch_size,)) > 0\n",
    "mask = condition\n",
    "binary_success = condition.to(dtype=int)\n",
    "cache_size =  10\n",
    "success_thres = 0.5\n"
   ]
  },
  {
   "cell_type": "code",
   "execution_count": null,
   "metadata": {},
   "outputs": [],
   "source": [
    "images = torch.randn((20,10,10))\n",
    "batch_size = images.shape[0]\n",
    "condition = torch.randn((batch_size,)) > 0\n",
    "mask = condition\n",
    "binary_success = condition.to(dtype=int)\n",
    "cache_size =  10\n",
    "success_thres = 0.5\n",
    "\n",
    "moving_results = torch.zeros(size=(batch_size, cache_size))\n",
    "moving_results[:] = torch.nan\n",
    "moving_avg = torch.zeros(size=(batch_size,))\n",
    "best_moving_avg = torch.negative(torch.ones(size=(batch_size,)))"
   ]
  },
  {
   "cell_type": "code",
   "execution_count": null,
   "metadata": {},
   "outputs": [],
   "source": [
    "cache_idx = step % cache_size\n",
    "moving_results[:, cache_idx] = binary_success\n",
    "moving_avg = torch.nanmean(moving_results, dim=1)\n",
    "\n",
    "# Update images with moving_avg\n"
   ]
  },
  {
   "cell_type": "code",
   "execution_count": null,
   "metadata": {},
   "outputs": [],
   "source": [
    "mask_mov_avg = moving_avg > best_moving_avg\n",
    "mask = torch.logical_and(mask_mov_avg, mask)"
   ]
  },
  {
   "cell_type": "code",
   "execution_count": null,
   "metadata": {},
   "outputs": [],
   "source": [
    "moving_results"
   ]
  },
  {
   "cell_type": "code",
   "execution_count": null,
   "metadata": {},
   "outputs": [],
   "source": [
    "moving_avg"
   ]
  },
  {
   "cell_type": "code",
   "execution_count": 23,
   "metadata": {},
   "outputs": [],
   "source": [
    "x = [\"┌─\",\"─┐\", \"─┬─\", \"└─\", \"─┘\", \"─┴─\", \"├─\", \"─┤\", \"─┼─\" ]\n"
   ]
  },
  {
   "cell_type": "code",
   "execution_count": 15,
   "metadata": {},
   "outputs": [
    {
     "ename": "NameError",
     "evalue": "name 'x' is not defined",
     "output_type": "error",
     "traceback": [
      "\u001b[0;31m---------------------------------------------------------------------------\u001b[0m",
      "\u001b[0;31mNameError\u001b[0m                                 Traceback (most recent call last)",
      "Cell \u001b[0;32mIn[15], line 1\u001b[0m\n\u001b[0;32m----> 1\u001b[0m \u001b[38;5;28;01mfor\u001b[39;00m el \u001b[38;5;129;01min\u001b[39;00m \u001b[43mx\u001b[49m:\n\u001b[1;32m      2\u001b[0m     \u001b[38;5;28mprint\u001b[39m(el)\n\u001b[1;32m      3\u001b[0m     \u001b[38;5;28;01mfor\u001b[39;00m ch \u001b[38;5;129;01min\u001b[39;00m el:\n",
      "\u001b[0;31mNameError\u001b[0m: name 'x' is not defined"
     ]
    }
   ],
   "source": [
    "for el in x:\n",
    "    print(el)\n",
    "    for ch in el:\n",
    "        print(ord(ch)) \n",
    "    print(\"\\n\\n\")"
   ]
  },
  {
   "cell_type": "code",
   "execution_count": 1,
   "metadata": {},
   "outputs": [],
   "source": [
    "loss = 2.34\n",
    "rep_loss = 36532323.55"
   ]
  },
  {
   "cell_type": "code",
   "execution_count": 2,
   "metadata": {},
   "outputs": [],
   "source": [
    "lam = 1\n",
    "rep_loss_c = rep_loss\n",
    "while rep_loss_c > loss:\n",
    "    lam*=1/10\n",
    "    rep_loss_c= rep_loss_c / 10"
   ]
  },
  {
   "cell_type": "code",
   "execution_count": 3,
   "metadata": {},
   "outputs": [
    {
     "data": {
      "text/plain": [
       "0.3653232354999999"
      ]
     },
     "execution_count": 3,
     "metadata": {},
     "output_type": "execute_result"
    }
   ],
   "source": [
    "rep_loss_c"
   ]
  },
  {
   "cell_type": "code",
   "execution_count": 4,
   "metadata": {},
   "outputs": [
    {
     "data": {
      "text/plain": [
       "1.0000000000000005e-08"
      ]
     },
     "execution_count": 4,
     "metadata": {},
     "output_type": "execute_result"
    }
   ],
   "source": [
    "lam"
   ]
  },
  {
   "cell_type": "code",
   "execution_count": 5,
   "metadata": {},
   "outputs": [
    {
     "data": {
      "text/plain": [
       "0.3653232355000002"
      ]
     },
     "execution_count": 5,
     "metadata": {},
     "output_type": "execute_result"
    }
   ],
   "source": [
    "rep_loss * lam"
   ]
  },
  {
   "cell_type": "code",
   "execution_count": null,
   "metadata": {},
   "outputs": [],
   "source": []
  },
  {
   "cell_type": "code",
   "execution_count": 2,
   "metadata": {},
   "outputs": [],
   "source": [
    "from utils.MLP import MLP"
   ]
  },
  {
   "cell_type": "code",
   "execution_count": 3,
   "metadata": {},
   "outputs": [],
   "source": [
    "model = MLP()"
   ]
  },
  {
   "cell_type": "code",
   "execution_count": 4,
   "metadata": {},
   "outputs": [
    {
     "data": {
      "text/plain": [
       "MLP(\n",
       "  (l1): Linear(in_features=3072, out_features=6144, bias=True)\n",
       "  (hidden): Sequential(\n",
       "    (0): Linear(in_features=6144, out_features=3072, bias=True)\n",
       "    (1): ReLU()\n",
       "    (2): Linear(in_features=3072, out_features=1536, bias=True)\n",
       "    (3): ReLU()\n",
       "  )\n",
       "  (l2): Linear(in_features=1536, out_features=10, bias=True)\n",
       "  (ReLU): ReLU()\n",
       ")"
      ]
     },
     "execution_count": 4,
     "metadata": {},
     "output_type": "execute_result"
    }
   ],
   "source": [
    "model"
   ]
  },
  {
   "cell_type": "code",
   "execution_count": null,
   "metadata": {},
   "outputs": [],
   "source": []
  }
 ],
 "metadata": {
  "kernelspec": {
   "display_name": "ffcv",
   "language": "python",
   "name": "python3"
  },
  "language_info": {
   "codemirror_mode": {
    "name": "ipython",
    "version": 3
   },
   "file_extension": ".py",
   "mimetype": "text/x-python",
   "name": "python",
   "nbconvert_exporter": "python",
   "pygments_lexer": "ipython3",
   "version": "3.10.13"
  }
 },
 "nbformat": 4,
 "nbformat_minor": 2
}
