{
 "cells": [
  {
   "cell_type": "code",
   "execution_count": 31,
   "metadata": {},
   "outputs": [],
   "source": [
    "import torch"
   ]
  },
  {
   "cell_type": "code",
   "execution_count": 34,
   "metadata": {},
   "outputs": [],
   "source": [
    "adv_images = torch.randn(size=(1,4,4))"
   ]
  },
  {
   "cell_type": "code",
   "execution_count": 39,
   "metadata": {},
   "outputs": [],
   "source": [
    "eps = torch.tensor(0.5)"
   ]
  },
  {
   "cell_type": "code",
   "execution_count": 40,
   "metadata": {},
   "outputs": [],
   "source": [
    "adv_images = torch.minimum(torch.maximum(-eps, adv_images), eps) + adv_images"
   ]
  },
  {
   "cell_type": "code",
   "execution_count": 41,
   "metadata": {},
   "outputs": [
    {
     "data": {
      "text/plain": [
       "tensor([[[-1.2082, -2.3241,  0.0600, -1.4320],\n",
       "         [-0.3944, -0.5565, -0.0814, -0.8059],\n",
       "         [ 0.7397,  0.9991,  0.5645,  1.2103],\n",
       "         [ 0.0350,  1.3005,  0.6355, -0.9752]]])"
      ]
     },
     "execution_count": 41,
     "metadata": {},
     "output_type": "execute_result"
    }
   ],
   "source": [
    "adv_images"
   ]
  },
  {
   "cell_type": "code",
   "execution_count": 29,
   "metadata": {},
   "outputs": [],
   "source": [
    "eps = torch.tensor(0.4)"
   ]
  },
  {
   "cell_type": "code",
   "execution_count": 30,
   "metadata": {},
   "outputs": [
    {
     "data": {
      "text/plain": [
       "tensor([[[-0.4000, -0.4000,  0.2098, -0.4000],\n",
       "         [-0.3443, -0.4000, -0.4000, -0.4000],\n",
       "         [ 0.3530,  0.4000,  0.4000,  0.4000],\n",
       "         [-0.4000, -0.4000, -0.2821, -0.4000]]])"
      ]
     },
     "execution_count": 30,
     "metadata": {},
     "output_type": "execute_result"
    }
   ],
   "source": [
    "adv_images = torch.minimum(torch.maximum(-eps, adv_images), eps)"
   ]
  },
  {
   "cell_type": "code",
   "execution_count": 5,
   "metadata": {},
   "outputs": [
    {
     "ename": "TypeError",
     "evalue": "min() received an invalid combination of arguments - got (int, int), but expected one of:\n * (Tensor input, *, Tensor out)\n * (Tensor input, Tensor other, *, Tensor out)\n * (Tensor input, int dim, bool keepdim, *, tuple of Tensors out)\n * (Tensor input, name dim, bool keepdim, *, tuple of Tensors out)\n",
     "output_type": "error",
     "traceback": [
      "\u001b[0;31m---------------------------------------------------------------------------\u001b[0m",
      "\u001b[0;31mTypeError\u001b[0m                                 Traceback (most recent call last)",
      "Cell \u001b[0;32mIn[5], line 1\u001b[0m\n\u001b[0;32m----> 1\u001b[0m \u001b[43mtorch\u001b[49m\u001b[38;5;241;43m.\u001b[39;49m\u001b[43mmin\u001b[49m\u001b[43m(\u001b[49m\u001b[38;5;241;43m4\u001b[39;49m\u001b[43m,\u001b[49m\u001b[43m \u001b[49m\u001b[38;5;241;43m3\u001b[39;49m\u001b[43m)\u001b[49m\n",
      "\u001b[0;31mTypeError\u001b[0m: min() received an invalid combination of arguments - got (int, int), but expected one of:\n * (Tensor input, *, Tensor out)\n * (Tensor input, Tensor other, *, Tensor out)\n * (Tensor input, int dim, bool keepdim, *, tuple of Tensors out)\n * (Tensor input, name dim, bool keepdim, *, tuple of Tensors out)\n"
     ]
    }
   ],
   "source": []
  },
  {
   "cell_type": "code",
   "execution_count": 14,
   "metadata": {},
   "outputs": [],
   "source": [
    "x = torch.randn(size=(1,32)) > 1"
   ]
  },
  {
   "cell_type": "code",
   "execution_count": 19,
   "metadata": {},
   "outputs": [
    {
     "data": {
      "text/plain": [
       "tensor([[False, False, False, False,  True, False, False, False, False, False,\n",
       "         False,  True, False,  True, False, False, False,  True, False, False,\n",
       "         False, False,  True, False, False, False, False, False, False, False,\n",
       "         False, False]])"
      ]
     },
     "execution_count": 19,
     "metadata": {},
     "output_type": "execute_result"
    }
   ],
   "source": [
    "x"
   ]
  },
  {
   "cell_type": "code",
   "execution_count": 18,
   "metadata": {},
   "outputs": [
    {
     "data": {
      "text/plain": [
       "tensor(5)"
      ]
     },
     "execution_count": 18,
     "metadata": {},
     "output_type": "execute_result"
    }
   ],
   "source": [
    "torch.sum(x)"
   ]
  },
  {
   "cell_type": "code",
   "execution_count": 12,
   "metadata": {},
   "outputs": [
    {
     "data": {
      "text/plain": [
       "0.21875"
      ]
     },
     "execution_count": 12,
     "metadata": {},
     "output_type": "execute_result"
    }
   ],
   "source": [
    "torch.where(x==1)[1].shape[0] / x.shape[1]"
   ]
  },
  {
   "cell_type": "code",
   "execution_count": 1,
   "metadata": {},
   "outputs": [],
   "source": [
    "import sys\n",
    "sys.path.append(\"/home/zsarwar/Projects/SparseDNNs/scripts\")"
   ]
  },
  {
   "cell_type": "code",
   "execution_count": 2,
   "metadata": {},
   "outputs": [
    {
     "name": "stderr",
     "output_type": "stream",
     "text": [
      "/home/zsarwar/.conda/envs/cnn/lib/python3.10/site-packages/tqdm/auto.py:21: TqdmWarning: IProgress not found. Please update jupyter and ipywidgets. See https://ipywidgets.readthedocs.io/en/stable/user_install.html\n",
      "  from .autonotebook import tqdm as notebook_tqdm\n"
     ]
    }
   ],
   "source": [
    "import torch\n",
    "from torchvision.models.feature_extraction import create_feature_extractor, get_graph_node_names\n",
    "from torchvision.models import resnet18\n",
    "\n",
    "import numpy as np\n",
    "import pandas as pd\n",
    "import matplotlib.pyplot as plt\n",
    "import torchvision\n",
    "import pickle\n",
    "import torch\n",
    "import os\n",
    "import copy\n",
    "import torch.nn as nn\n",
    "import seaborn as sns\n",
    "from torch.utils.data import DataLoader\n",
    "from utils.dataset import CustomImageDataset, CustomImageDataset_Adv\n",
    "from torchvision.transforms import transforms"
   ]
  },
  {
   "cell_type": "code",
   "execution_count": 3,
   "metadata": {},
   "outputs": [],
   "source": [
    "adv_dataset_path = \"/net/scratch/zsarwar/SparseDNNs/MT_cifar10_randCNN_10_8d64c1903fcb2ff6173fe22979c3175f_arch/MT_Baseline_814e4c261078e7110bf94f724cd2187e/Adversarial_Datasets/CW_adv_samples_2500_test_detector-type-Regular_integrated-False_c-1.0_d-0.0_eps-0.034.pickle\"\n",
    "\n",
    "with open(adv_dataset_path, 'rb') as adv_set:\n",
    "    adv_samples = pickle.load(adv_set)\n",
    "\n",
    "\n",
    "\n",
    "transform_adv = transforms.Compose([\n",
    "    ])\n",
    "valset = CustomImageDataset_Adv(adv_samples, transform=transform_adv)\n",
    "\n",
    "val_loader = torch.utils.data.DataLoader(valset, batch_size=8,\n",
    "                                            shuffle=False, num_workers=1)"
   ]
  },
  {
   "cell_type": "code",
   "execution_count": 4,
   "metadata": {},
   "outputs": [],
   "source": [
    "class RandResNetFeatureExtractor(torch.nn.Module):\n",
    "    def __init__(self, model):\n",
    "        super().__init__()\n",
    "        # Get a resnet18 backbone\n",
    "        m = model\n",
    "        return_nodes = {\n",
    "            # node_name: user-specified key for output dict\n",
    "            'x' : 'x',\n",
    "            'conv1': 'conv1',\n",
    "            'layer1.0.conv1': 'layer1.0.conv1',\n",
    "            'layer1.0.conv2': 'layer1.0.conv2',\n",
    "            'layer1.1.conv1': 'layer1.1.conv1',\n",
    "            'layer1.1.conv2': 'layer1.1.conv2',\n",
    "            'layer2.0.conv1': 'layer2.0.conv1',\n",
    "            'layer2.0.conv2': 'layer2.0.conv2',\n",
    "            'layer2.1.conv1': 'layer2.1.conv1',\n",
    "            'layer2.1.conv2': 'layer2.1.conv2',\n",
    "            'layer3.0.conv1': 'layer3.0.conv1',\n",
    "            'layer3.0.conv2': 'layer3.0.conv2',\n",
    "            'layer3.1.conv1': 'layer3.1.conv1',\n",
    "            'layer3.1.conv2': 'layer3.1.conv2',\n",
    "            'layer4.0.conv1': 'layer4.0.conv1',\n",
    "            'layer4.0.conv2': 'layer4.0.conv2',\n",
    "            'layer4.1.conv1': 'layer4.1.conv1',\n",
    "            'layer4.1.conv2': 'layer4.1.conv2',\n",
    "            'fc' : 'fc'\n",
    "      \n",
    "        }\n",
    "        self.body = create_feature_extractor(\n",
    "            m, return_nodes=return_nodes)\n",
    "    def forward(self, x):\n",
    "        x = self.body(x)\n",
    "        return x\n",
    "\n"
   ]
  },
  {
   "cell_type": "code",
   "execution_count": 5,
   "metadata": {},
   "outputs": [],
   "source": [
    "\n",
    "from utils.resnet_rand_tracer_1 import resnet18 as resnet18_1,  SparsifyKernelGroups as SparsifyKernelGroups_1 \n",
    "sparseblock_1 = SparsifyKernelGroups_1\n",
    "\n",
    "from utils.resnet_rand_tracer_2 import resnet18 as resnet18_2,  SparsifyKernelGroups as SparsifyKernelGroups_2\n",
    "sparseblock_2 = SparsifyKernelGroups_2\n",
    "scale_factor=2\n"
   ]
  },
  {
   "cell_type": "code",
   "execution_count": 6,
   "metadata": {},
   "outputs": [
    {
     "data": {
      "text/plain": [
       "'\\nmodel_2 = resnet18_2(sparsefilter=sparseblock_2,scale_factor=scale_factor)                \\nmodel_2.fc = nn.Linear(in_features=512, out_features=10, bias=True)\\n\\nckpt_path = \"/net/scratch/zsarwar/SparseDNNs/MT_cifar10_randCNN_10_8d64c1903fcb2ff6173fe22979c3175f_arch/MT_Baseline_814e4c261078e7110bf94f724cd2187e/Checkpoints/model_best.pth.tar\"\\nloc = \\'cpu\\'\\ncheckpoint = torch.load(ckpt_path, map_location=loc)\\nmodel_2.load_state_dict(checkpoint[\\'state_dict\\'])\\n\\n#model_2 = RandResNetFeatureExtractor(model_2)\\n'"
      ]
     },
     "execution_count": 6,
     "metadata": {},
     "output_type": "execute_result"
    }
   ],
   "source": [
    "model_1 = resnet18_1(sparsefilter=sparseblock_1,scale_factor=scale_factor)                \n",
    "model_1.fc = nn.Linear(in_features=512, out_features=10, bias=True)\n",
    "\n",
    "ckpt_path = \"/net/scratch/zsarwar/SparseDNNs/MT_cifar10_randCNN_10_8d64c1903fcb2ff6173fe22979c3175f_arch/MT_Baseline_43528ed29912dd1a3825f30bea8e4ba8/Checkpoints/model_best.pth.tar\"\n",
    "loc = 'cpu'\n",
    "checkpoint = torch.load(ckpt_path, map_location=loc)\n",
    "model_1.load_state_dict(checkpoint['state_dict'])\n",
    "\n",
    "#model_1 = RandResNetFeatureExtractor(model_1)\n",
    "\n",
    "\n",
    "\"\"\"\n",
    "model_2 = resnet18_2(sparsefilter=sparseblock_2,scale_factor=scale_factor)                \n",
    "model_2.fc = nn.Linear(in_features=512, out_features=10, bias=True)\n",
    "\n",
    "ckpt_path = \"/net/scratch/zsarwar/SparseDNNs/MT_cifar10_randCNN_10_8d64c1903fcb2ff6173fe22979c3175f_arch/MT_Baseline_814e4c261078e7110bf94f724cd2187e/Checkpoints/model_best.pth.tar\"\n",
    "loc = 'cpu'\n",
    "checkpoint = torch.load(ckpt_path, map_location=loc)\n",
    "model_2.load_state_dict(checkpoint['state_dict'])\n",
    "\n",
    "#model_2 = RandResNetFeatureExtractor(model_2)\n",
    "\"\"\""
   ]
  },
  {
   "cell_type": "code",
   "execution_count": 7,
   "metadata": {},
   "outputs": [
    {
     "data": {
      "text/plain": [
       "torch.Size([256, 64, 3, 3])"
      ]
     },
     "execution_count": 7,
     "metadata": {},
     "output_type": "execute_result"
    }
   ],
   "source": [
    "# Compare 2x model Kernel weights for each alternative kernel block\n",
    "model_1.layer2[0].conv1.weight.shape"
   ]
  },
  {
   "cell_type": "code",
   "execution_count": 8,
   "metadata": {},
   "outputs": [
    {
     "data": {
      "text/plain": [
       "tensor([[ 0.0557,  0.1402,  0.0448],\n",
       "        [-0.0387,  0.0431,  0.0107],\n",
       "        [-0.0216, -0.0208,  0.0133]], grad_fn=<SliceBackward0>)"
      ]
     },
     "execution_count": 8,
     "metadata": {},
     "output_type": "execute_result"
    }
   ],
   "source": [
    "model_1.layer2[1].conv1.weight[0, 0, :, :]"
   ]
  },
  {
   "cell_type": "code",
   "execution_count": 9,
   "metadata": {},
   "outputs": [
    {
     "data": {
      "text/plain": [
       "tensor([[-0.0252,  0.1184,  0.1506],\n",
       "        [ 0.0077,  0.0382,  0.0126],\n",
       "        [ 0.0128, -0.1362, -0.1342]], grad_fn=<SliceBackward0>)"
      ]
     },
     "execution_count": 9,
     "metadata": {},
     "output_type": "execute_result"
    }
   ],
   "source": [
    "model_1.layer2[1].conv1.weight[0, 1, :, :]"
   ]
  },
  {
   "cell_type": "code",
   "execution_count": null,
   "metadata": {},
   "outputs": [],
   "source": []
  },
  {
   "cell_type": "code",
   "execution_count": null,
   "metadata": {},
   "outputs": [],
   "source": []
  },
  {
   "cell_type": "code",
   "execution_count": null,
   "metadata": {},
   "outputs": [],
   "source": []
  },
  {
   "cell_type": "code",
   "execution_count": null,
   "metadata": {},
   "outputs": [],
   "source": []
  },
  {
   "cell_type": "code",
   "execution_count": null,
   "metadata": {},
   "outputs": [],
   "source": []
  },
  {
   "cell_type": "code",
   "execution_count": 8,
   "metadata": {},
   "outputs": [],
   "source": [
    "\n",
    "from utils.resnet_rand import resnet18, SparsifyKernelGroups\n",
    "sparseblock = SparsifyKernelGroups\n",
    "scale_factor=2"
   ]
  },
  {
   "cell_type": "code",
   "execution_count": 9,
   "metadata": {},
   "outputs": [],
   "source": [
    "\n",
    "model = resnet18(sparsefilter=sparseblock,scale_factor=scale_factor)                \n",
    "model.fc = nn.Linear(in_features=512, out_features=10, bias=True)\n",
    "\n",
    "ckpt_path = \"/net/scratch/zsarwar/SparseDNNs/MT_cifar10_randCNN_10_8d64c1903fcb2ff6173fe22979c3175f_arch/MT_Baseline_43528ed29912dd1a3825f30bea8e4ba8/Checkpoints/model_best.pth.tar\"\n",
    "loc = 'cpu'\n",
    "#checkpoint = torch.load(ckpt_path, map_location=loc)\n",
    "#model.load_state_dict(checkpoint['state_dict'])\n",
    "\n",
    "#model_1 = RandResNetFeatureExtractor(model_1)\n"
   ]
  },
  {
   "cell_type": "code",
   "execution_count": null,
   "metadata": {},
   "outputs": [],
   "source": []
  },
  {
   "cell_type": "code",
   "execution_count": null,
   "metadata": {},
   "outputs": [],
   "source": []
  },
  {
   "cell_type": "code",
   "execution_count": null,
   "metadata": {},
   "outputs": [],
   "source": []
  },
  {
   "cell_type": "code",
   "execution_count": 17,
   "metadata": {},
   "outputs": [
    {
     "name": "stdout",
     "output_type": "stream",
     "text": [
      "conv1.weight\n",
      "bn1.weight\n",
      "bn1.bias\n",
      "layer1.0.conv1.weight\n",
      "layer1.0.bn1.weight\n",
      "layer1.0.bn1.bias\n",
      "layer1.0.conv2.weight\n",
      "layer1.0.bn2.weight\n",
      "layer1.0.bn2.bias\n",
      "layer1.1.conv1.weight\n",
      "layer1.1.bn1.weight\n",
      "layer1.1.bn1.bias\n",
      "layer1.1.conv2.weight\n",
      "layer1.1.bn2.weight\n",
      "layer1.1.bn2.bias\n",
      "layer2.0.conv1.weight\n",
      "layer2.0.bn1.weight\n",
      "layer2.0.bn1.bias\n",
      "layer2.0.conv2.weight\n",
      "layer2.0.bn2.weight\n",
      "layer2.0.bn2.bias\n",
      "layer2.0.downsample.0.weight\n",
      "layer2.0.downsample.1.weight\n",
      "layer2.0.downsample.1.bias\n",
      "layer2.1.conv1.weight\n",
      "layer2.1.bn1.weight\n",
      "layer2.1.bn1.bias\n",
      "layer2.1.conv2.weight\n",
      "layer2.1.bn2.weight\n",
      "layer2.1.bn2.bias\n",
      "layer3.0.conv1.weight\n",
      "layer3.0.bn1.weight\n",
      "layer3.0.bn1.bias\n",
      "layer3.0.conv2.weight\n",
      "layer3.0.bn2.weight\n",
      "layer3.0.bn2.bias\n",
      "layer3.0.downsample.0.weight\n",
      "layer3.0.downsample.1.weight\n",
      "layer3.0.downsample.1.bias\n",
      "layer3.1.conv1.weight\n",
      "layer3.1.bn1.weight\n",
      "layer3.1.bn1.bias\n",
      "layer3.1.conv2.weight\n",
      "layer3.1.bn2.weight\n",
      "layer3.1.bn2.bias\n",
      "layer4.0.conv1.weight\n",
      "layer4.0.bn1.weight\n",
      "layer4.0.bn1.bias\n",
      "layer4.0.conv2.weight\n",
      "layer4.0.bn2.weight\n",
      "layer4.0.bn2.bias\n",
      "layer4.0.downsample.0.weight\n",
      "layer4.0.downsample.1.weight\n",
      "layer4.0.downsample.1.bias\n",
      "layer4.1.conv1.weight\n",
      "layer4.1.bn1.weight\n",
      "layer4.1.bn1.bias\n",
      "layer4.1.conv2.weight\n",
      "layer4.1.bn2.weight\n",
      "layer4.1.bn2.bias\n",
      "fc.weight\n",
      "fc.bias\n"
     ]
    }
   ],
   "source": [
    "for name, param in model.named_parameters():\n",
    "    \n"
   ]
  },
  {
   "cell_type": "code",
   "execution_count": 30,
   "metadata": {},
   "outputs": [
    {
     "data": {
      "text/plain": [
       "Conv2d(64, 128, kernel_size=(3, 3), stride=(1, 1), padding=(1, 1), bias=False)"
      ]
     },
     "execution_count": 30,
     "metadata": {},
     "output_type": "execute_result"
    }
   ],
   "source": [
    "model._modules['layer1'][0].conv1"
   ]
  },
  {
   "cell_type": "code",
   "execution_count": 6,
   "metadata": {},
   "outputs": [],
   "source": [
    "from torchvision.models import resnet18\n",
    "\n",
    "class NoisyResNet18(nn.Module):\n",
    "  def __init__(self, model, std=0.015):\n",
    "    super(NoisyResNet18, self).__init__()\n",
    "    self.model = model\n",
    "    self.std = std  # Standard deviation for the Gaussian noise\n",
    "\n",
    "  def forward(self, x):\n",
    "    # Iterate over all modules in the ResNet\n",
    "    noisy_weights = {}\n",
    "    for name, param in self.model.named_parameters():\n",
    "      # Check if the parameter requires gradient (learnable)\n",
    "      if param.requires_grad:\n",
    "        # Create a copy of the weight parameter\n",
    "        clean_weight = param.data.clone()\n",
    "        # Add Gaussian noise with mean 0 and std self.std\n",
    "        noise = torch.randn(clean_weight.size()).to(device=param.device) * self.std\n",
    "        # Create the noisy weight\n",
    "        noisy_weight = clean_weight + noise\n",
    "        # Store the noisy weight for this pass\n",
    "        noisy_weights[name] = noisy_weight\n",
    "    # Update the weights of the resnet with noisy copies\n",
    "    for name, weight in noisy_weights.items():\n",
    "        self.resnet._modules[name].weight.data = weight.detach()\n",
    "        if 'conv' in name:\n",
    "            n = name.replace(\".weight\", \"\")\n",
    "            self.model._modules[n].weight.data = weight\n",
    "    # Forward pass through the modified ResNet\n",
    "    output = self.model(x)\n",
    "    # Restore original weights (optional)\n",
    "    for name, param in self.model.named_parameters():\n",
    "      if param.requires_grad:\n",
    "        param.data = param.data.clone()  # Restore original weight\n",
    "    return output"
   ]
  },
  {
   "cell_type": "code",
   "execution_count": 161,
   "metadata": {},
   "outputs": [],
   "source": [
    "model = resnet18()"
   ]
  },
  {
   "cell_type": "code",
   "execution_count": 183,
   "metadata": {},
   "outputs": [
    {
     "name": "stdout",
     "output_type": "stream",
     "text": [
      "Before\n",
      "tensor([[-0.0283,  0.0466, -0.0248, -0.0398,  0.0529,  0.0443, -0.0258],\n",
      "        [-0.0207, -0.0099, -0.0120,  0.0039,  0.0303, -0.0358,  0.0334],\n",
      "        [ 0.0848, -0.0306, -0.0554,  0.0781, -0.0338, -0.0581,  0.1145],\n",
      "        [ 0.1190, -0.0419, -0.0455, -0.0302, -0.0070, -0.0489,  0.0083],\n",
      "        [ 0.0095,  0.0081,  0.0505,  0.0934,  0.0727, -0.0063, -0.0208],\n",
      "        [ 0.0699, -0.0495,  0.1082, -0.0442, -0.0527, -0.0256,  0.0800],\n",
      "        [-0.0091,  0.1652, -0.0192, -0.0372, -0.0146,  0.0731, -0.0293]])\n",
      "After\n",
      "tensor([[-0.0140,  0.0278, -0.0197, -0.0370,  0.0689,  0.0310, -0.0273],\n",
      "        [-0.0023, -0.0199, -0.0267, -0.0010,  0.0145, -0.0436,  0.0309],\n",
      "        [ 0.0819, -0.0434, -0.0250,  0.0638, -0.0373, -0.0384,  0.1233],\n",
      "        [ 0.1049, -0.0340, -0.0148, -0.0135, -0.0115, -0.0468,  0.0146],\n",
      "        [ 0.0198,  0.0083,  0.0509,  0.1078,  0.0771,  0.0096, -0.0146],\n",
      "        [ 0.0759, -0.0491,  0.0724, -0.0382, -0.0634, -0.0157,  0.0940],\n",
      "        [ 0.0061,  0.1734, -0.0162, -0.0618, -0.0288,  0.0933, -0.0199]])\n",
      "After\n",
      "tensor([[-0.0283,  0.0466, -0.0248, -0.0398,  0.0529,  0.0443, -0.0258],\n",
      "        [-0.0207, -0.0099, -0.0120,  0.0039,  0.0303, -0.0358,  0.0334],\n",
      "        [ 0.0848, -0.0306, -0.0554,  0.0781, -0.0338, -0.0581,  0.1145],\n",
      "        [ 0.1190, -0.0419, -0.0455, -0.0302, -0.0070, -0.0489,  0.0083],\n",
      "        [ 0.0095,  0.0081,  0.0505,  0.0934,  0.0727, -0.0063, -0.0208],\n",
      "        [ 0.0699, -0.0495,  0.1082, -0.0442, -0.0527, -0.0256,  0.0800],\n",
      "        [-0.0091,  0.1652, -0.0192, -0.0372, -0.0146,  0.0731, -0.0293]])\n"
     ]
    }
   ],
   "source": [
    "# Save original weights in dict and then perturb them\n",
    "std = 0.015\n",
    "og_weights = {}\n",
    "for idx, (name, param) in enumerate(model.named_parameters()):\n",
    "    if param.requires_grad and \"conv\" in name:\n",
    "        og_weights[name] = param.data.clone()\n",
    "        noise = torch.randn(param.data.size()).to(device=param.device) * std\n",
    "        # Add noise to the weights\n",
    "        name_lst = name.split(\".\")[:-1]\n",
    "        if idx == 0:\n",
    "            print(\"Before\")\n",
    "            print(model._modules[name_lst[0]].weight.data[0, 0])\n",
    "            model._modules[name_lst[0]].weight.data+= noise\n",
    "            print(\"After\")\n",
    "            print(model._modules[name_lst[0]].weight.data[0, 0])\n",
    "        else:\n",
    "            getattr(model._modules[name_lst[0]][int(name_lst[1])], name_lst[2]).weight.data+=noise\n",
    "\n",
    "# Compute forward pass\n",
    "\n",
    "\n",
    "# Get back to the original weights\n",
    "\n",
    "for idx, (name, param) in enumerate(model.named_parameters()):\n",
    "    if param.requires_grad and \"conv\" in name:\n",
    "        name_lst = name.split(\".\")[:-1]\n",
    "        if idx == 0:\n",
    "            model._modules[name_lst[0]].weight.data = og_weights[name]\n",
    "            print(\"After\")\n",
    "            print(model._modules[name_lst[0]].weight.data[0, 0])\n",
    "        else:\n",
    "            getattr(model._modules[name_lst[0]][int(name_lst[1])], name_lst[2]).weight.data = og_weights[name]\n"
   ]
  },
  {
   "cell_type": "code",
   "execution_count": 11,
   "metadata": {},
   "outputs": [
    {
     "name": "stdout",
     "output_type": "stream",
     "text": [
      "Epoch \t Learning Rate\n"
     ]
    }
   ],
   "source": [
    "import torch\n",
    "from torch.optim import SGD, lr_scheduler\n",
    "import matplotlib.pyplot as plt\n",
    "\n",
    "# Define some hyperparameters\n",
    "epochs = 10000\n",
    "learning_rate = 0.1\n",
    "eta_min = 0.001  # Minimum learning rate\n",
    "\n",
    "# Create a dummy model (not used for training)\n",
    "class DummyModel(torch.nn.Module):\n",
    "  def __init__(self):\n",
    "    super(DummyModel, self).__init__()\n",
    "    self.linear = torch.nn.Linear(1, 1)\n",
    "\n",
    "  def forward(self, x):\n",
    "    return self.linear(x)\n",
    "\n",
    "model = DummyModel()\n",
    "\n",
    "# Create an optimizer and learning rate scheduler\n",
    "optimizer = SGD(model.parameters(), lr=learning_rate)\n",
    "scheduler = lr_scheduler.CosineAnnealingWarmRestarts(optimizer, T_0=10000)\n",
    "\n",
    "all_lrs = []\n",
    "# Print learning rates for each epoch\n",
    "print(\"Epoch \\t Learning Rate\")\n",
    "for epoch in range(epochs):\n",
    "  # Update learning rate (simulates training loop)\n",
    "  scheduler.step()\n",
    "  learning_rates = scheduler.get_lr()  # Get current learning rates\n",
    "  #print(f\"{epoch} \\t {learning_rates[0]:.6f}\")\n",
    "  all_lrs.append(learning_rates[0])\n"
   ]
  },
  {
   "cell_type": "code",
   "execution_count": 12,
   "metadata": {},
   "outputs": [
    {
     "data": {
      "text/plain": [
       "[<matplotlib.lines.Line2D at 0x7f21e5735ff0>]"
      ]
     },
     "execution_count": 12,
     "metadata": {},
     "output_type": "execute_result"
    },
    {
     "data": {
      "image/png": "[encoded data removed]",
      "text/plain": [
       "<Figure size 640x480 with 1 Axes>"
      ]
     },
     "metadata": {},
     "output_type": "display_data"
    }
   ],
   "source": [
    "plt.plot(all_lrs)"
   ]
  },
  {
   "cell_type": "code",
   "execution_count": 1,
   "metadata": {},
   "outputs": [
    {
     "name": "stderr",
     "output_type": "stream",
     "text": [
      "/home/zsarwar/.conda/envs/cnn/lib/python3.10/site-packages/tqdm/auto.py:21: TqdmWarning: IProgress not found. Please update jupyter and ipywidgets. See https://ipywidgets.readthedocs.io/en/stable/user_install.html\n",
      "  from .autonotebook import tqdm as notebook_tqdm\n"
     ]
    }
   ],
   "source": [
    "import numpy as np\n",
    "import pandas as pd\n",
    "import matplotlib.pyplot as plt\n",
    "import torchvision\n",
    "import pickle\n",
    "import torch\n",
    "import os\n",
    "import copy\n",
    "import torch.nn as nn\n",
    "import seaborn as sns\n"
   ]
  },
  {
   "cell_type": "code",
   "execution_count": 7,
   "metadata": {},
   "outputs": [],
   "source": [
    "MSELoss_none = nn.MSELoss(reduction='none')\n",
    "MSELoss = nn.MSELoss(reduction='mean')\n",
    "flatten = nn.Flatten()"
   ]
  },
  {
   "cell_type": "code",
   "execution_count": 8,
   "metadata": {},
   "outputs": [],
   "source": [
    "x = torch.randn(size=(2,3,3))\n",
    "y = torch.randn(size=(2,3,3))"
   ]
  },
  {
   "cell_type": "code",
   "execution_count": 9,
   "metadata": {},
   "outputs": [],
   "source": [
    "res = MSELoss_none(flatten(x), flatten(y))\n"
   ]
  },
  {
   "cell_type": "code",
   "execution_count": 11,
   "metadata": {},
   "outputs": [
    {
     "data": {
      "text/plain": [
       "tensor([[2.5098e+00, 4.4126e-01, 6.7861e-02, 2.5196e+00, 2.1708e-02, 2.4271e-01,\n",
       "         8.1274e-02, 8.7105e-02, 1.0496e+00],\n",
       "        [1.3705e+00, 2.6457e-04, 5.9851e-01, 1.2695e+00, 1.2045e+00, 9.4492e+00,\n",
       "         4.3378e-01, 1.7248e+00, 3.5298e+00]])"
      ]
     },
     "execution_count": 11,
     "metadata": {},
     "output_type": "execute_result"
    }
   ],
   "source": [
    "res"
   ]
  },
  {
   "cell_type": "code",
   "execution_count": 12,
   "metadata": {},
   "outputs": [],
   "source": [
    "res = torch.sqrt(res)"
   ]
  },
  {
   "cell_type": "code",
   "execution_count": 15,
   "metadata": {},
   "outputs": [
    {
     "data": {
      "text/plain": [
       "tensor([1.5873, 3.0740])"
      ]
     },
     "execution_count": 15,
     "metadata": {},
     "output_type": "execute_result"
    }
   ],
   "source": [
    "res.max(dim=1)[0]"
   ]
  },
  {
   "cell_type": "code",
   "execution_count": 16,
   "metadata": {},
   "outputs": [
    {
     "data": {
      "text/plain": [
       "tensor([[1.5842, 0.6643, 0.2605, 1.5873, 0.1473, 0.4927, 0.2851, 0.2951, 1.0245],\n",
       "        [1.1707, 0.0163, 0.7736, 1.1267, 1.0975, 3.0740, 0.6586, 1.3133, 1.8788]])"
      ]
     },
     "execution_count": 16,
     "metadata": {},
     "output_type": "execute_result"
    }
   ],
   "source": [
    "res"
   ]
  },
  {
   "cell_type": "code",
   "execution_count": 38,
   "metadata": {},
   "outputs": [
    {
     "data": {
      "text/plain": [
       "tensor([[[8.4204e-05, 5.0345e+00, 2.0480e+00],\n",
       "         [3.8545e+00, 5.1110e-01, 1.1981e+00],\n",
       "         [4.1183e+00, 3.0365e-02, 6.0268e-04]],\n",
       "\n",
       "        [[2.3080e+00, 3.7315e+00, 1.0827e-01],\n",
       "         [2.1317e-03, 6.2068e-04, 8.5988e-04],\n",
       "         [2.6596e-03, 2.4393e-01, 7.5075e-01]]])"
      ]
     },
     "execution_count": 38,
     "metadata": {},
     "output_type": "execute_result"
    }
   ],
   "source": [
    "res = MSELoss_none(x,y)\n",
    "res"
   ]
  },
  {
   "cell_type": "code",
   "execution_count": null,
   "metadata": {},
   "outputs": [],
   "source": []
  },
  {
   "cell_type": "code",
   "execution_count": null,
   "metadata": {},
   "outputs": [],
   "source": []
  },
  {
   "cell_type": "code",
   "execution_count": null,
   "metadata": {},
   "outputs": [],
   "source": []
  }
 ],
 "metadata": {
  "kernelspec": {
   "display_name": "ffcv",
   "language": "python",
   "name": "python3"
  },
  "language_info": {
   "codemirror_mode": {
    "name": "ipython",
    "version": 3
   },
   "file_extension": ".py",
   "mimetype": "text/x-python",
   "name": "python",
   "nbconvert_exporter": "python",
   "pygments_lexer": "ipython3",
   "version": "3.10.13"
  }
 },
 "nbformat": 4,
 "nbformat_minor": 2
}
