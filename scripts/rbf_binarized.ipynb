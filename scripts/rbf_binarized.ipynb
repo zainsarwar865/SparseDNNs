{
 "cells": [
  {
   "cell_type": "code",
   "execution_count": 1,
   "metadata": {},
   "outputs": [],
   "source": [
    "import pickle\n",
    "import pandas as pd\n",
    "import numpy as np\n",
    "import torchvision\n",
    "from torch.utils.data import DataLoader, Subset\n",
    "import torchvision.transforms as transforms\n",
    "import torch"
   ]
  },
  {
   "cell_type": "code",
   "execution_count": 2,
   "metadata": {},
   "outputs": [],
   "source": [
    "import os\n",
    "os.environ[\"CUDA_VISIBLE_DEVICES\"]=\"1\""
   ]
  },
  {
   "cell_type": "code",
   "execution_count": 3,
   "metadata": {},
   "outputs": [],
   "source": [
    "import os\n",
    "os.environ['CUDA_VISIBLE_DEVICES'] = '0'\n",
    "import sys\n",
    "import torch\n",
    "from sklearn.svm import SVC\n",
    "import torch.nn as nn\n",
    "import torchvision\n",
    "import torchvision.transforms as transforms\n",
    "from torchvision.models import resnet18\n",
    "from utils import configs\n",
    "import hashlib\n",
    "sys.path.append(\"/home/zsarwar/Projects/SparseDNNs/adversarial-attacks-pytorch\")\n",
    "import torchattacks\n",
    "\n",
    "from utils.utils_2 import imshow, get_pred\n",
    "import matplotlib.pyplot as plt\n",
    "import pickle\n",
    "from torch.utils.data import DataLoader, Subset\n",
    "import numpy as np\n",
    "from utils.rbf_model import RBF_SVM"
   ]
  },
  {
   "cell_type": "code",
   "execution_count": 4,
   "metadata": {},
   "outputs": [],
   "source": [
    "import torch.nn as nn\n",
    "import torch\n",
    "import pickle\n",
    "\n",
    "\n",
    "class RBF_SVM(nn.Module):\n",
    "    def __init__(self, clf):\n",
    "        super().__init__()\n",
    "        self.SV = nn.Parameter(torch.from_numpy(clf.support_vectors_))\n",
    "        self.IC = nn.Parameter(torch.tensor(clf.intercept_))\n",
    "        self.DC = nn.Parameter(torch.from_numpy(clf.dual_coef_))\n",
    "        self.gamma = nn.Parameter(torch.tensor(clf.gamma))\n",
    "        self.SV.requires_grad = True\n",
    "        self.IC.requires_grad = True\n",
    "        self.DC.requires_grad = True\n",
    "        self.gamma.requires_grad = True\n",
    "\n",
    "    def forward(self, X):\n",
    "        X_expanded = X.unsqueeze(1)\n",
    "        SV_broadcasted = torch.broadcast_to(self.SV, (X.shape[0], self.SV.shape[0], self.SV.shape[1]))\n",
    "        res_batch = torch.subtract(SV_broadcasted, X_expanded)\n",
    "        res_batch = torch.norm(res_batch, p=2, dim=2)\n",
    "        res_batch = torch.square(res_batch)\n",
    "        res_batch = torch.multiply(-self.gamma, res_batch)\n",
    "        res_batch = torch.exp(res_batch)\n",
    "        res_batch = torch.multiply(res_batch, self.DC)\n",
    "        res_batch = torch.sum(res_batch, dim=1)\n",
    "        res_batch = res_batch + self.IC\n",
    "        return res_batch\n"
   ]
  },
  {
   "cell_type": "code",
   "execution_count": 5,
   "metadata": {},
   "outputs": [],
   "source": [
    "rbf_path = \"/bigstor/zsarwar/SparseDNNs/MT_CIFAR10_full_10_d5f3f545a0883adb9c8f98e2a6ba4ac7/MT_Baseline_64532bf03dea249a46b41a734c5fc63b/RBF/RBF_CW_5120_Regular.pkl\"\n",
    "with open(rbf_path,'rb') as in_model:\n",
    "    clf = pickle.load(in_model)\n",
    "    \n",
    "# Class RBF model\n",
    "rbf_svm = RBF_SVM(clf)"
   ]
  },
  {
   "cell_type": "code",
   "execution_count": 6,
   "metadata": {},
   "outputs": [],
   "source": [
    "\"\"\"\n",
    "def load_data(path, label):\n",
    "    with open(path, 'rb') as iffile:\n",
    "        features = pickle.load(iffile)\n",
    "    layer = 'view'\n",
    "    features = features[layer]\n",
    "    features_matrix = None\n",
    "\n",
    "    for i in range(len(features)):\n",
    "        if isinstance(features_matrix, torch.Tensor):\n",
    "            features_matrix = torch.cat((   features_matrix, features[i]))\n",
    "        else:\n",
    "            features_matrix = features[i]\n",
    "\n",
    "    features = None    \n",
    "    features_matrix = torch.flatten(features_matrix, start_dim=1, end_dim=-1)\n",
    "    y = np.empty(features_matrix.shape[0])\n",
    "    y.fill(label)\n",
    "    return [features_matrix, y]\n",
    "\"\"\"\n",
    "\n",
    "\n",
    "def load_data(path, label):\n",
    "    features_matrix = torch.load(path)\n",
    "    y = np.empty(features_matrix.shape[0])\n",
    "    y.fill(label)\n",
    "    return [features_matrix, y]\n",
    "\n",
    "def unison_shuffled_copies_ind(X, y):\n",
    "    assert len(X) == len(y)\n",
    "    p = np.random.permutation(len(X))\n",
    "    return X[p], y[p]\n",
    "\n",
    "\n",
    "def unison_shuffled_copies(x_ben, y_ben, x_adv, y_adv):\n",
    "    X = np.concatenate((x_ben, x_adv), axis=0)\n",
    "    y = np.concatenate((y_ben, y_adv), axis=0)\n",
    "    assert len(X) == len(y)\n",
    "    p = np.random.permutation(len(X))\n",
    "    return X[p], y[p]\n",
    "\n",
    "\n",
    "def get_paths(base_path):\n",
    "    attack=\"CW\"\n",
    "    total_attack_samples = 5120\n",
    "    integrated = False\n",
    "    relu_dir = \"ReLUs\"\n",
    "    detector_type='Regular'\n",
    "    train_benign = f\"ReLUs_{attack}_train_benign_{total_attack_samples}_detector-type-{detector_type}_integrated-{integrated}.pkl\"\n",
    "    train_adversarial = f\"ReLUs_{attack}_train_adversarial_{total_attack_samples}_detector-type-{detector_type}_integrated-{integrated}.pkl\"\n",
    "    test_benign = f\"ReLUs_{attack}_test_benign_{total_attack_samples}_detector-type-{detector_type}_integrated-{integrated}.pkl\"\n",
    "    test_adversarial = f\"ReLUs_{attack}_test_adversarial_{total_attack_samples}_detector-type-{detector_type}_integrated-{integrated}.pkl\"\n",
    "\n",
    "    train_benign = os.path.join(base_path, relu_dir, train_benign)\n",
    "    train_adversarial = os.path.join(base_path, relu_dir,  train_adversarial)\n",
    "    test_benign = os.path.join(base_path,  relu_dir, test_benign)\n",
    "    test_adversarial = os.path.join(base_path,  relu_dir, test_adversarial)\n",
    "\n",
    "    all_paths = [train_benign,train_adversarial,test_benign,test_adversarial]\n",
    "\n",
    "    return all_paths\n",
    "\n"
   ]
  },
  {
   "cell_type": "code",
   "execution_count": 32,
   "metadata": {},
   "outputs": [],
   "source": [
    "#path2 = \"/bigstor/zsarwar/SparseDNNs/MT_CIFAR10_full_10_d5f3f545a0883adb9c8f98e2a6ba4ac7/MT_Baseline_64532bf03dea249a46b41a734c5fc63b/ReLUs/ReLUs_CW_test_adversarial_512_detector-type-Regular_integrated-True.pth\"\n",
    "#path = \"/bigstor/zsarwar/SparseDNNs/MT_CIFAR10_full_10_d5f3f545a0883adb9c8f98e2a6ba4ac7/MT_Baseline_64532bf03dea249a46b41a734c5fc63b/ReLUs/ReLUs_CW_test_benign_512_detector-type-Regular_integrated-False.pkl\"\n",
    "path = \"/bigstor/zsarwar/SparseDNNs/MT_CIFAR10_full_10_d5f3f545a0883adb9c8f98e2a6ba4ac7/MT_Baseline_64532bf03dea249a46b41a734c5fc63b/ReLUs/activations.pth\"\n",
    "#X2, y2 = load_data(path2, -1)\n",
    "X, y = load_data(path, -1)"
   ]
  },
  {
   "cell_type": "code",
   "execution_count": 33,
   "metadata": {},
   "outputs": [
    {
     "name": "stdout",
     "output_type": "stream",
     "text": [
      "Accuracy :  0.251953125\n",
      "RBF tested...\n"
     ]
    }
   ],
   "source": [
    "x_pred = clf.predict(X)\n",
    "acc = len(np.where(x_pred == y)[0]) / len(X)\n",
    "print(\"Accuracy : \", acc)\n",
    "print(\"RBF tested...\")\n",
    "\n"
   ]
  },
  {
   "cell_type": "code",
   "execution_count": 34,
   "metadata": {},
   "outputs": [],
   "source": [
    "import pickle\n",
    "with open(\"/bigstor/zsarwar/SparseDNNs/MT_CIFAR10_full_10_d5f3f545a0883adb9c8f98e2a6ba4ac7/MT_Baseline_64532bf03dea249a46b41a734c5fc63b/Adversarial_Datasets/CW_adv_samples_512_test_detector-type-Regular_integrated-True.pickle\", 'rb') as iffi:\n",
    "    adv_images = pickle.load(iffi)"
   ]
  },
  {
   "cell_type": "code",
   "execution_count": 10,
   "metadata": {},
   "outputs": [],
   "source": [
    "feats = torch.load(\"/bigstor/zsarwar/SparseDNNs/MT_CIFAR10_full_10_d5f3f545a0883adb9c8f98e2a6ba4ac7/MT_Baseline_64532bf03dea249a46b41a734c5fc63b/ReLUs/ReLUs_CW_test_adversarial_512_detector-type-Regular_integrated-True.pth\")"
   ]
  },
  {
   "cell_type": "code",
   "execution_count": 14,
   "metadata": {},
   "outputs": [
    {
     "data": {
      "text/plain": [
       "tensor([9.8591e-02, 2.4871e-02, 2.4430e-03, 1.9704e-02, 2.2680e-01, 9.7668e-02,\n",
       "        8.1776e-01, 2.7111e-04, 0.0000e+00, 2.8677e-01, 3.6766e-02, 6.4051e-03,\n",
       "        2.1870e-01, 8.8778e-03, 0.0000e+00, 9.9895e-02, 3.3468e-02, 4.3264e-02,\n",
       "        1.4539e-01, 8.5985e-02, 3.9879e-02, 4.7777e-02, 1.0282e-01, 5.0694e-01,\n",
       "        8.8367e-03, 2.8149e-01, 1.0308e-01, 5.5417e-02, 6.4430e-02, 1.6152e-02,\n",
       "        1.3095e-04, 2.4005e-01, 3.2919e-01, 2.1300e-01, 1.2130e-01, 1.3937e-01,\n",
       "        1.7947e+00, 4.6814e-02, 1.7062e-01, 1.1615e-02, 3.0147e-01, 3.0213e-01,\n",
       "        3.2052e-02, 0.0000e+00, 4.1294e-01, 4.5042e-02, 2.7997e-01, 3.7986e-02,\n",
       "        5.7363e-03, 1.6557e-01, 3.1226e-02, 4.2771e-03, 2.8256e-02, 5.3961e-02,\n",
       "        3.4207e-02, 5.4275e-01, 2.1567e-04, 5.5861e-03, 7.3118e-01, 2.3739e-01,\n",
       "        8.5634e-01, 1.8987e-02, 1.8099e-02, 1.2705e-01, 4.5058e-01, 3.7861e-01,\n",
       "        1.9674e-02, 3.5807e-02, 2.6109e-03, 2.1615e-02, 4.1328e-02, 5.4974e-01,\n",
       "        9.3865e-02, 9.9862e-04, 1.7049e-02, 6.9351e-02, 3.9500e-01, 0.0000e+00,\n",
       "        6.5785e-03, 1.4956e-02, 3.2057e-02, 2.8137e-01, 5.6767e-03, 6.0036e-03,\n",
       "        2.4403e-03, 6.8618e-01, 1.7924e-02, 3.6742e-02, 3.6767e-03, 6.9761e-01,\n",
       "        1.1408e-01, 2.0834e-01, 6.8661e-03, 1.4730e-02, 1.5465e-04, 3.7761e-02,\n",
       "        6.3901e-03, 3.6778e-02, 7.5241e-01, 1.4250e-02, 1.7425e-01, 5.2397e-01,\n",
       "        6.2295e-02, 1.9363e-02, 2.1510e-03, 5.9625e-02, 3.0798e-02, 6.4972e-02,\n",
       "        3.3266e-02, 3.9997e-02, 9.9126e-02, 7.0847e-01, 1.8842e-03, 3.5367e-02,\n",
       "        5.6909e-02, 1.0447e+00, 1.3659e+00, 1.2184e-02, 2.4318e-01, 1.2977e+00,\n",
       "        1.4255e-01, 4.3646e-02, 3.2674e-01, 1.8535e-03, 4.9109e-01, 8.6108e-02,\n",
       "        1.8994e-03, 5.3698e-01, 1.8199e-01, 2.9013e-02, 1.7706e+00, 2.6745e-01,\n",
       "        5.4499e-01, 1.0515e-01, 1.8944e-03, 4.9925e-01, 5.2190e-01, 1.5633e-02,\n",
       "        5.4408e-01, 3.1508e-02, 2.1684e-02, 4.0157e-01, 7.0376e-02, 3.6287e-05,\n",
       "        4.9521e-01, 1.3085e-01, 6.8316e-02, 8.4903e-01, 1.5167e-02, 7.4484e-02,\n",
       "        4.6634e-02, 3.6073e-01, 8.1487e-03, 4.1487e-02, 6.6642e-03, 8.4795e-03,\n",
       "        6.5460e-01, 1.1011e-02, 1.7292e-02, 1.2883e-01, 2.9700e-02, 1.1674e-01,\n",
       "        2.3188e-01, 5.8998e-01, 5.2403e-02, 3.2215e-02, 1.4328e-01, 1.3341e-01,\n",
       "        8.0776e-03, 2.8749e-01, 2.8689e-01, 5.9705e-04, 1.3390e-01, 8.6179e-02,\n",
       "        4.3248e-01, 1.0807e-02, 1.0206e-01, 1.3130e-01, 2.8301e-01, 1.0579e+00,\n",
       "        1.0179e-01, 8.3194e-02, 4.6412e-01, 1.5583e-01, 1.0961e-01, 5.0288e-02,\n",
       "        1.9757e-02, 3.3232e-03, 4.3716e-02, 7.1968e-05, 5.2875e-01, 8.3661e-01,\n",
       "        2.9962e-01, 3.1742e-03, 1.3371e-03, 2.1898e-01, 7.6415e-03, 5.2456e-02,\n",
       "        4.0929e-02, 2.5515e-02, 1.4630e-02, 2.6247e-01, 5.1883e-01, 1.2338e-01,\n",
       "        5.2124e-01, 1.6042e-01, 0.0000e+00, 3.8039e-02, 5.0656e-02, 2.3996e-02,\n",
       "        5.6798e-02, 3.0976e-01, 8.4521e-02, 5.9058e-02, 3.3681e-01, 1.7451e-02,\n",
       "        2.9867e-03, 1.1699e-02, 1.0035e-01, 4.0910e-01, 1.3748e-02, 1.7794e-01,\n",
       "        7.6249e-02, 2.1482e-02, 5.7116e-02, 2.8257e-01, 1.2913e-02, 2.5952e-02,\n",
       "        6.6377e-02, 3.8907e-01, 4.8274e-02, 1.6650e-01, 2.0319e-01, 7.4574e-04,\n",
       "        1.5763e-02, 5.9315e-03, 2.4461e-01, 5.8369e-01, 7.3622e-03, 2.9102e-01,\n",
       "        2.4686e-01, 3.1559e-03, 4.1096e-02, 5.1104e-02, 0.0000e+00, 1.5869e-03,\n",
       "        3.9023e-01, 2.9302e-02, 8.5016e-04, 2.4679e-03, 2.7617e-02, 4.0636e-03,\n",
       "        8.4649e-02, 4.0909e-01, 5.3157e-03, 2.5448e-02, 0.0000e+00, 3.1094e-02,\n",
       "        2.4846e-02, 3.5805e-02, 4.0253e-01, 7.2757e-01, 3.3025e-02, 6.3490e-01,\n",
       "        4.5403e-01, 4.7974e-01, 1.8285e-02, 1.4393e-01, 6.6243e-02, 1.5839e-01,\n",
       "        7.7225e-01, 5.5890e-01, 7.8674e-02, 1.6064e-02, 5.0292e-02, 1.5948e-01,\n",
       "        1.8577e-02, 9.7754e-01, 4.7240e-01, 2.6524e-02, 1.0737e-01, 7.2185e-02,\n",
       "        1.9261e-02, 1.8792e-01, 1.7563e-02, 4.1519e-02, 2.0673e-02, 1.9686e-02,\n",
       "        1.0419e-01, 4.1402e-01, 5.3953e-01, 2.0900e-03, 2.1977e-02, 1.6775e-01,\n",
       "        4.4508e-01, 1.4256e-03, 1.2501e-02, 3.4806e-01, 4.0095e-01, 9.2095e-02,\n",
       "        1.0786e-01, 1.3912e-02, 4.4583e-01, 3.7785e-02, 0.0000e+00, 1.6581e-02,\n",
       "        2.0624e-02, 9.9302e-03, 1.2174e-02, 4.1097e-03, 7.3075e-02, 2.1182e-01,\n",
       "        7.2361e-04, 4.2177e-03, 3.9574e-02, 7.9330e-03, 0.0000e+00, 9.0666e-03,\n",
       "        8.3794e-02, 2.0960e-03, 1.6975e-02, 1.3611e-02, 1.2808e-03, 7.4771e-03,\n",
       "        2.0041e-02, 6.2751e-03, 2.7490e-02, 1.0103e-01, 3.5648e-03, 1.6399e-01,\n",
       "        1.4621e-02, 6.1296e-01, 8.6403e-02, 3.8734e-01, 1.9513e-02, 8.9947e-03,\n",
       "        7.7274e-02, 1.2599e-02, 4.2645e-01, 3.1914e-02, 0.0000e+00, 5.5428e-02,\n",
       "        1.2745e-01, 8.9911e-02, 1.0392e-01, 3.3838e-01, 2.0101e-02, 9.0352e-03,\n",
       "        1.4584e-03, 1.2582e-01, 1.3140e+00, 1.0173e+00, 3.2106e-04, 5.2997e-01,\n",
       "        1.2145e-02, 6.9531e-02, 3.2188e-03, 6.3855e-02, 1.8280e-01, 1.7886e-02,\n",
       "        9.2249e-02, 5.1662e-03, 7.0696e-02, 3.0525e-01, 5.2494e-01, 1.8443e-01,\n",
       "        2.4793e-03, 2.5320e-02, 8.3019e-02, 3.8372e-03, 7.0342e-02, 3.2254e-02,\n",
       "        1.6258e-01, 8.1755e-01, 9.2618e-02, 1.4812e-02, 2.4406e-01, 1.2759e-01,\n",
       "        5.0410e-01, 4.9366e-01, 2.3953e-02, 1.2241e-02, 1.2013e-02, 3.7163e-01,\n",
       "        6.9996e-02, 8.2874e-05, 1.1256e-02, 1.2649e-01, 2.6307e-01, 3.3710e-01,\n",
       "        4.4130e-04, 1.8180e-01, 2.1088e-01, 1.2537e-02, 9.1096e-03, 1.5036e-02,\n",
       "        2.4483e-01, 9.4988e-03, 3.2431e-01, 1.8436e-01, 5.9198e-02, 5.1395e-02,\n",
       "        6.1108e-01, 2.5701e-02, 3.1476e-01, 5.1762e-01, 2.6063e-02, 2.5127e-02,\n",
       "        6.3138e-03, 1.9850e-03, 0.0000e+00, 0.0000e+00, 8.9797e-03, 2.1067e-02,\n",
       "        5.3417e-03, 6.4467e-02, 1.5817e-01, 9.4938e-03, 7.0950e-01, 2.3407e-04,\n",
       "        1.0363e-01, 5.9424e-02, 1.5081e-01, 5.4505e-02, 2.9832e-01, 5.0296e-01,\n",
       "        3.0727e-03, 2.2121e-01, 1.9019e-02, 5.9141e-03, 1.9861e+00, 1.1436e-01,\n",
       "        1.3050e-01, 3.4879e-02, 3.6275e-01, 3.5023e-02, 8.2207e-01, 2.1230e-01,\n",
       "        3.4761e-01, 8.4408e-02, 1.9517e-01, 3.1627e-01, 6.6762e-01, 3.0824e-01,\n",
       "        2.4998e-03, 5.1185e-01, 3.0716e-02, 5.2633e-03, 3.0917e-02, 2.7908e-03,\n",
       "        9.1942e-02, 1.1850e-02, 5.3256e-02, 1.9519e-01, 7.4450e-01, 8.3958e-02,\n",
       "        2.0158e-01, 6.4251e-01, 4.4404e-03, 7.0633e-02, 3.6748e-03, 4.3266e-02,\n",
       "        1.0735e-01, 0.0000e+00, 4.1681e-01, 4.6059e-03, 7.4324e-03, 2.0880e-01,\n",
       "        4.7086e-02, 1.9468e-01, 7.9923e-01, 4.0467e-01, 1.3848e-02, 7.6460e-01,\n",
       "        8.4494e-02, 1.6638e-02, 7.3309e-02, 2.0805e-03, 3.3772e-01, 1.8140e-01,\n",
       "        1.2058e-03, 1.0236e+00, 6.9215e-02, 1.0718e+00, 6.4580e-02, 4.3373e-02,\n",
       "        2.7745e-02, 4.4647e-01, 5.5882e-02, 9.8218e-03, 1.1775e-01, 2.7167e-02,\n",
       "        6.0218e-02, 7.9492e-03, 2.4884e-04, 6.5937e-02, 4.3891e-03, 4.0357e-02,\n",
       "        2.1024e-03, 1.5223e-02, 1.7057e-01, 4.9052e-01, 7.1378e-02, 3.9467e-01,\n",
       "        4.8829e-01, 7.6406e-03, 1.4204e-02, 1.0770e-01, 4.4949e-02, 6.1168e-02,\n",
       "        2.2921e-01, 1.1468e-04, 1.2867e-01, 3.0616e-02, 1.6941e-01, 9.8621e-04,\n",
       "        5.7083e-01, 1.3234e-01, 1.5435e-01, 1.0498e-03, 5.1242e-02, 0.0000e+00,\n",
       "        9.2959e-03, 3.5813e-01, 2.9896e-01, 2.3868e-03, 2.6367e-01, 4.5577e-02,\n",
       "        4.8314e-01, 7.9904e-01, 1.7824e-01, 1.6827e-02, 1.0831e+00, 3.3807e-02,\n",
       "        2.6596e-02, 5.7207e-02, 4.6703e-02, 1.0424e-01, 1.5982e-02, 1.0626e-01,\n",
       "        2.8239e-01, 1.2561e-01, 1.4825e-01, 4.6775e-03, 4.5364e-01, 3.5868e-02,\n",
       "        6.0352e-03, 8.9519e-02, 3.0155e-01, 3.5806e-04, 3.2954e-01, 8.3788e-01,\n",
       "        1.1487e-02, 6.6626e-02, 5.0638e-02, 1.5500e-01, 4.0206e-02, 1.0267e-01,\n",
       "        2.6530e-01, 7.9633e-01, 4.6907e-02, 1.6698e+00, 2.1810e-01, 4.6867e-03,\n",
       "        6.3441e-02, 1.1961e-02, 3.8190e-01, 4.0488e-03, 1.2115e-01, 3.4306e-02,\n",
       "        2.3590e-03, 1.3490e+00, 2.5965e-01, 2.2409e-02, 1.0237e-01, 7.3603e-02,\n",
       "        2.8114e-02, 1.1165e-02, 6.0715e-02, 6.4826e-02, 2.2497e-01, 6.4159e-03,\n",
       "        2.5846e-03, 9.5888e-02, 2.5503e-01, 1.4934e-02, 2.0831e-02, 1.3086e-01,\n",
       "        1.0290e-02, 5.4040e-01, 5.7441e-01, 4.5590e-02, 2.0052e-03, 5.1692e-02,\n",
       "        2.2496e-02, 3.4153e-03, 5.2154e-01, 3.3137e-01, 6.6397e-02, 1.0689e-02,\n",
       "        7.5340e-02, 8.0185e-01, 1.0359e-02, 2.2984e-02, 9.0734e-04, 1.3814e-01,\n",
       "        3.0040e-01, 3.0479e-03, 4.6772e-02, 3.2130e-02, 1.9162e-02, 3.6593e-02,\n",
       "        3.5201e-02, 1.7997e-01, 1.7824e+00, 1.3362e-01, 3.0351e-02, 3.7358e-04,\n",
       "        5.1739e-03, 1.3532e-02, 3.9961e-01, 1.9002e-02, 1.6819e-02, 3.2598e-01,\n",
       "        3.1017e-01, 1.0110e-02, 7.2355e-04, 3.1373e-02, 1.9062e-02, 1.3541e-02,\n",
       "        7.6740e-02, 2.3194e-01, 1.2846e-01, 4.0520e-01, 4.0109e-01, 5.4033e-03,\n",
       "        4.6333e-01, 6.1500e-01, 5.9772e-01, 4.9610e-02])"
      ]
     },
     "execution_count": 14,
     "metadata": {},
     "output_type": "execute_result"
    }
   ],
   "source": [
    "feats[0]"
   ]
  },
  {
   "cell_type": "code",
   "execution_count": 35,
   "metadata": {},
   "outputs": [
    {
     "data": {
      "text/plain": [
       "tensor([[[0.7725, 0.7647, 0.7765,  ..., 0.8078, 0.8000, 0.8000],\n",
       "         [0.7647, 0.7569, 0.7647,  ..., 0.7961, 0.7843, 0.7843],\n",
       "         [0.7686, 0.7608, 0.7686,  ..., 0.7922, 0.7882, 0.7843],\n",
       "         ...,\n",
       "         [0.3647, 0.3294, 0.3333,  ..., 0.5059, 0.5176, 0.5412],\n",
       "         [0.4510, 0.4510, 0.4471,  ..., 0.5216, 0.5373, 0.5490],\n",
       "         [0.4706, 0.4667, 0.4588,  ..., 0.5294, 0.5373, 0.5451]],\n",
       "\n",
       "        [[0.8431, 0.8392, 0.8471,  ..., 0.8627, 0.8706, 0.8706],\n",
       "         [0.8353, 0.8275, 0.8314,  ..., 0.8510, 0.8549, 0.8549],\n",
       "         [0.8392, 0.8314, 0.8353,  ..., 0.8510, 0.8549, 0.8549],\n",
       "         ...,\n",
       "         [0.3451, 0.2863, 0.2745,  ..., 0.5020, 0.5216, 0.5451],\n",
       "         [0.4471, 0.4314, 0.4235,  ..., 0.5333, 0.5451, 0.5529],\n",
       "         [0.4824, 0.4784, 0.4706,  ..., 0.5451, 0.5490, 0.5569]],\n",
       "\n",
       "        [[0.9020, 0.8941, 0.9020,  ..., 0.9255, 0.9255, 0.9255],\n",
       "         [0.8902, 0.8824, 0.8902,  ..., 0.9137, 0.9098, 0.9098],\n",
       "         [0.8941, 0.8863, 0.8902,  ..., 0.9098, 0.9098, 0.9098],\n",
       "         ...,\n",
       "         [0.4000, 0.3412, 0.3255,  ..., 0.5569, 0.5647, 0.5922],\n",
       "         [0.5059, 0.4902, 0.4784,  ..., 0.5843, 0.5961, 0.6000],\n",
       "         [0.5412, 0.5373, 0.5294,  ..., 0.5961, 0.6039, 0.6157]]])"
      ]
     },
     "execution_count": 35,
     "metadata": {},
     "output_type": "execute_result"
    }
   ],
   "source": [
    "adv_images[0][0]"
   ]
  },
  {
   "cell_type": "code",
   "execution_count": 9,
   "metadata": {},
   "outputs": [
    {
     "name": "stdout",
     "output_type": "stream",
     "text": [
      "Accuracy :  0.791015625\n",
      "RBF tested...\n"
     ]
    }
   ],
   "source": [
    "x_pred = clf.predict(X2)\n",
    "acc = len(np.where(x_pred == y)[0]) / len(X2)\n",
    "print(\"Accuracy : \", acc)\n",
    "print(\"RBF tested...\")\n",
    "\n"
   ]
  },
  {
   "cell_type": "code",
   "execution_count": 15,
   "metadata": {},
   "outputs": [],
   "source": [
    "def get_pred(model, images, device):\n",
    "    logits = model(images.to(device))\n",
    "    _, pres = logits.max(dim=1)\n",
    "    return pres.cpu()\n",
    "\n",
    "def imshow(img, title):\n",
    "    img = torchvision.utils.make_grid(img.cpu().data, normalize=True)\n",
    "    npimg = img.numpy()\n",
    "    fig = plt.figure(figsize = (5, 15))\n",
    "    plt.imshow(np.transpose(npimg,(1,2,0)))\n",
    "    plt.title(title)\n",
    "    plt.show()\n"
   ]
  },
  {
   "cell_type": "code",
   "execution_count": 20,
   "metadata": {},
   "outputs": [
    {
     "data": {
      "image/png": "[encoded data removed]",
      "text/plain": [
       "<Figure size 500x1500 with 1 Axes>"
      ]
     },
     "metadata": {},
     "output_type": "display_data"
    }
   ],
   "source": [
    "imshow(adv_images[0][222\n",
    "                     ], title=\"1\")"
   ]
  },
  {
   "cell_type": "code",
   "execution_count": 16,
   "metadata": {},
   "outputs": [
    {
     "data": {
      "text/plain": [
       "torch.Size([640])"
      ]
     },
     "execution_count": 16,
     "metadata": {},
     "output_type": "execute_result"
    }
   ],
   "source": [
    "X[0].shape"
   ]
  },
  {
   "cell_type": "code",
   "execution_count": null,
   "metadata": {},
   "outputs": [],
   "source": []
  },
  {
   "cell_type": "code",
   "execution_count": 7,
   "metadata": {},
   "outputs": [],
   "source": [
    "def quantize(X):\n",
    "    X[0] = torch.where(X[0] > 0, torch.ones_like(X[0]), torch.zeros_like(X[0]))\n",
    "    return X"
   ]
  },
  {
   "cell_type": "code",
   "execution_count": 8,
   "metadata": {},
   "outputs": [],
   "source": [
    "expr_dir = \"/bigstor/zsarwar/SparseDNNs/MT_CIFAR10_full_10_d5f3f545a0883adb9c8f98e2a6ba4ac7/MT_Baseline_64532bf03dea249a46b41a734c5fc63b\"\n",
    "\n",
    "train_benign,train_adversarial,test_benign,test_adversarial = get_paths(expr_dir)\n",
    "train_benign = load_data(train_benign, 1)\n",
    "train_adversarial = load_data(train_adversarial, -1)\n",
    "test_benign = load_data(test_benign, 1)\n",
    "test_adversarial = load_data(test_adversarial, -1)\n",
    "\n",
    "train_benign = quantize(train_benign)\n",
    "train_adversarial = quantize(train_adversarial)\n",
    "test_benign = quantize(test_benign)\n",
    "test_adversarial = quantize(test_adversarial)\n",
    "\n"
   ]
  },
  {
   "cell_type": "code",
   "execution_count": 9,
   "metadata": {},
   "outputs": [],
   "source": [
    "X_train, y_train = unison_shuffled_copies(train_benign[0], train_benign[1], train_adversarial[0], train_adversarial[1])\n",
    "\n",
    "X_test, y_test = unison_shuffled_copies(test_benign[0], test_benign[1], test_adversarial[0], test_adversarial[1])\n",
    "\n"
   ]
  },
  {
   "cell_type": "code",
   "execution_count": 10,
   "metadata": {},
   "outputs": [
    {
     "data": {
      "text/html": [
       "<style>#sk-container-id-1 {color: black;}#sk-container-id-1 pre{padding: 0;}#sk-container-id-1 div.sk-toggleable {background-color: white;}#sk-container-id-1 label.sk-toggleable__label {cursor: pointer;display: block;width: 100%;margin-bottom: 0;padding: 0.3em;box-sizing: border-box;text-align: center;}#sk-container-id-1 label.sk-toggleable__label-arrow:before {content: \"▸\";float: left;margin-right: 0.25em;color: #696969;}#sk-container-id-1 label.sk-toggleable__label-arrow:hover:before {color: black;}#sk-container-id-1 div.sk-estimator:hover label.sk-toggleable__label-arrow:before {color: black;}#sk-container-id-1 div.sk-toggleable__content {max-height: 0;max-width: 0;overflow: hidden;text-align: left;background-color: #f0f8ff;}#sk-container-id-1 div.sk-toggleable__content pre {margin: 0.2em;color: black;border-radius: 0.25em;background-color: #f0f8ff;}#sk-container-id-1 input.sk-toggleable__control:checked~div.sk-toggleable__content {max-height: 200px;max-width: 100%;overflow: auto;}#sk-container-id-1 input.sk-toggleable__control:checked~label.sk-toggleable__label-arrow:before {content: \"▾\";}#sk-container-id-1 div.sk-estimator input.sk-toggleable__control:checked~label.sk-toggleable__label {background-color: #d4ebff;}#sk-container-id-1 div.sk-label input.sk-toggleable__control:checked~label.sk-toggleable__label {background-color: #d4ebff;}#sk-container-id-1 input.sk-hidden--visually {border: 0;clip: rect(1px 1px 1px 1px);clip: rect(1px, 1px, 1px, 1px);height: 1px;margin: -1px;overflow: hidden;padding: 0;position: absolute;width: 1px;}#sk-container-id-1 div.sk-estimator {font-family: monospace;background-color: #f0f8ff;border: 1px dotted black;border-radius: 0.25em;box-sizing: border-box;margin-bottom: 0.5em;}#sk-container-id-1 div.sk-estimator:hover {background-color: #d4ebff;}#sk-container-id-1 div.sk-parallel-item::after {content: \"\";width: 100%;border-bottom: 1px solid gray;flex-grow: 1;}#sk-container-id-1 div.sk-label:hover label.sk-toggleable__label {background-color: #d4ebff;}#sk-container-id-1 div.sk-serial::before {content: \"\";position: absolute;border-left: 1px solid gray;box-sizing: border-box;top: 0;bottom: 0;left: 50%;z-index: 0;}#sk-container-id-1 div.sk-serial {display: flex;flex-direction: column;align-items: center;background-color: white;padding-right: 0.2em;padding-left: 0.2em;position: relative;}#sk-container-id-1 div.sk-item {position: relative;z-index: 1;}#sk-container-id-1 div.sk-parallel {display: flex;align-items: stretch;justify-content: center;background-color: white;position: relative;}#sk-container-id-1 div.sk-item::before, #sk-container-id-1 div.sk-parallel-item::before {content: \"\";position: absolute;border-left: 1px solid gray;box-sizing: border-box;top: 0;bottom: 0;left: 50%;z-index: -1;}#sk-container-id-1 div.sk-parallel-item {display: flex;flex-direction: column;z-index: 1;position: relative;background-color: white;}#sk-container-id-1 div.sk-parallel-item:first-child::after {align-self: flex-end;width: 50%;}#sk-container-id-1 div.sk-parallel-item:last-child::after {align-self: flex-start;width: 50%;}#sk-container-id-1 div.sk-parallel-item:only-child::after {width: 0;}#sk-container-id-1 div.sk-dashed-wrapped {border: 1px dashed gray;margin: 0 0.4em 0.5em 0.4em;box-sizing: border-box;padding-bottom: 0.4em;background-color: white;}#sk-container-id-1 div.sk-label label {font-family: monospace;font-weight: bold;display: inline-block;line-height: 1.2em;}#sk-container-id-1 div.sk-label-container {text-align: center;}#sk-container-id-1 div.sk-container {/* jupyter's `normalize.less` sets `[hidden] { display: none; }` but bootstrap.min.css set `[hidden] { display: none !important; }` so we also need the `!important` here to be able to override the default hidden behavior on the sphinx rendered scikit-learn.org. See: https://github.com/scikit-learn/scikit-learn/issues/21755 */display: inline-block !important;position: relative;}#sk-container-id-1 div.sk-text-repr-fallback {display: none;}</style><div id=\"sk-container-id-1\" class=\"sk-top-container\"><div class=\"sk-text-repr-fallback\"><pre>SVC(C=0.7, gamma=0.0075)</pre><b>In a Jupyter environment, please rerun this cell to show the HTML representation or trust the notebook. <br />On GitHub, the HTML representation is unable to render, please try loading this page with nbviewer.org.</b></div><div class=\"sk-container\" hidden><div class=\"sk-item\"><div class=\"sk-estimator sk-toggleable\"><input class=\"sk-toggleable__control sk-hidden--visually\" id=\"sk-estimator-id-1\" type=\"checkbox\" checked><label for=\"sk-estimator-id-1\" class=\"sk-toggleable__label sk-toggleable__label-arrow\">SVC</label><div class=\"sk-toggleable__content\"><pre>SVC(C=0.7, gamma=0.0075)</pre></div></div></div></div></div>"
      ],
      "text/plain": [
       "SVC(C=0.7, gamma=0.0075)"
      ]
     },
     "execution_count": 10,
     "metadata": {},
     "output_type": "execute_result"
    }
   ],
   "source": [
    "clf = SVC(C=0.7, gamma=0.0075)\n",
    "clf.fit(X_train, y_train)\n"
   ]
  },
  {
   "cell_type": "code",
   "execution_count": 11,
   "metadata": {},
   "outputs": [
    {
     "name": "stdout",
     "output_type": "stream",
     "text": [
      "Training acc : 0.96171875\n",
      "Test acc : 0.89658203125\n",
      "Training benign acc : 0.9720703125\n",
      "Training adversarial acc : 0.9513671875\n",
      "-------------------------------------\n",
      "Testing benign acc : 0.856640625\n",
      "Testing adversarial acc : 0.9365234375\n"
     ]
    }
   ],
   "source": [
    "# 0.075\n",
    "\n",
    "# Testing\n",
    "x_train_pred = clf.predict(X_train)\n",
    "train_acc = len(np.where(x_train_pred == y_train)[0]) / len(X_train)\n",
    "\n",
    "x_test_pred = clf.predict(X_test)\n",
    "test_acc = len(np.where(x_test_pred == y_test)[0]) / len(X_test)\n",
    "\n",
    "\n",
    "\n",
    "print(f\"Training acc : {train_acc}\")\n",
    "print(f\"Test acc : {test_acc}\")\n",
    "\n",
    "# Test classwise\n",
    "x_train_ben_pred = clf.predict(train_benign[0])\n",
    "train_ben_acc = len(np.where(x_train_ben_pred == train_benign[1])[0]) / len(x_train_ben_pred)\n",
    "\n",
    "x_train_adv_pred = clf.predict(train_adversarial[0])\n",
    "train_adv_acc = len(np.where(x_train_adv_pred == train_adversarial[1])[0]) / len(x_train_adv_pred)\n",
    "\n",
    "x_test_ben_pred = clf.predict(test_benign[0])\n",
    "test_ben_acc = len(np.where(x_test_ben_pred == test_benign[1])[0]) / len(x_test_ben_pred)\n",
    "\n",
    "x_test_adv_pred = clf.predict(test_adversarial[0])\n",
    "test_adv_acc = len(np.where(x_test_adv_pred == test_adversarial[1])[0]) / len(x_test_adv_pred)\n",
    "\n",
    "print(f\"Training benign acc : {train_ben_acc}\")\n",
    "print(f\"Training adversarial acc : {train_adv_acc}\")\n",
    "print(f\"-------------------------------------\")\n",
    "print(f\"Testing benign acc : {test_ben_acc}\")\n",
    "print(f\"Testing adversarial acc : {test_adv_acc}\")\n",
    "\n"
   ]
  },
  {
   "cell_type": "code",
   "execution_count": 46,
   "metadata": {},
   "outputs": [
    {
     "name": "stdout",
     "output_type": "stream",
     "text": [
      "Training acc : 0.9544921875\n",
      "Test acc : 0.8935546875\n",
      "Training benign acc : 0.9654296875\n",
      "Training adversarial acc : 0.9435546875\n",
      "-------------------------------------\n",
      "Testing benign acc : 0.8552734375\n",
      "Testing adversarial acc : 0.9318359375\n"
     ]
    }
   ],
   "source": [
    "# 0.005\n",
    "\n",
    "# Testing\n",
    "x_train_pred = clf.predict(X_train)\n",
    "train_acc = len(np.where(x_train_pred == y_train)[0]) / len(X_train)\n",
    "\n",
    "x_test_pred = clf.predict(X_test)\n",
    "test_acc = len(np.where(x_test_pred == y_test)[0]) / len(X_test)\n",
    "\n",
    "\n",
    "\n",
    "print(f\"Training acc : {train_acc}\")\n",
    "print(f\"Test acc : {test_acc}\")\n",
    "\n",
    "# Test classwise\n",
    "x_train_ben_pred = clf.predict(train_benign[0])\n",
    "train_ben_acc = len(np.where(x_train_ben_pred == train_benign[1])[0]) / len(x_train_ben_pred)\n",
    "\n",
    "x_train_adv_pred = clf.predict(train_adversarial[0])\n",
    "train_adv_acc = len(np.where(x_train_adv_pred == train_adversarial[1])[0]) / len(x_train_adv_pred)\n",
    "\n",
    "x_test_ben_pred = clf.predict(test_benign[0])\n",
    "test_ben_acc = len(np.where(x_test_ben_pred == test_benign[1])[0]) / len(x_test_ben_pred)\n",
    "\n",
    "x_test_adv_pred = clf.predict(test_adversarial[0])\n",
    "test_adv_acc = len(np.where(x_test_adv_pred == test_adversarial[1])[0]) / len(x_test_adv_pred)\n",
    "\n",
    "print(f\"Training benign acc : {train_ben_acc}\")\n",
    "print(f\"Training adversarial acc : {train_adv_acc}\")\n",
    "print(f\"-------------------------------------\")\n",
    "print(f\"Testing benign acc : {test_ben_acc}\")\n",
    "print(f\"Testing adversarial acc : {test_adv_acc}\")\n",
    "\n"
   ]
  },
  {
   "cell_type": "code",
   "execution_count": null,
   "metadata": {},
   "outputs": [],
   "source": []
  },
  {
   "cell_type": "code",
   "execution_count": null,
   "metadata": {},
   "outputs": [],
   "source": []
  },
  {
   "cell_type": "code",
   "execution_count": null,
   "metadata": {},
   "outputs": [],
   "source": []
  },
  {
   "cell_type": "code",
   "execution_count": null,
   "metadata": {},
   "outputs": [],
   "source": []
  },
  {
   "cell_type": "code",
   "execution_count": null,
   "metadata": {},
   "outputs": [],
   "source": []
  },
  {
   "cell_type": "code",
   "execution_count": null,
   "metadata": {},
   "outputs": [],
   "source": []
  },
  {
   "cell_type": "code",
   "execution_count": null,
   "metadata": {},
   "outputs": [],
   "source": []
  },
  {
   "cell_type": "code",
   "execution_count": null,
   "metadata": {},
   "outputs": [],
   "source": []
  },
  {
   "cell_type": "code",
   "execution_count": 27,
   "metadata": {},
   "outputs": [],
   "source": [
    "# Quantize\n",
    "# Comput per-dimension mean"
   ]
  },
  {
   "cell_type": "code",
   "execution_count": null,
   "metadata": {},
   "outputs": [],
   "source": [
    "dim_mean = features_matrix.mean(dim=0)"
   ]
  },
  {
   "cell_type": "code",
   "execution_count": null,
   "metadata": {},
   "outputs": [],
   "source": [
    "binarized_matrix = torch.where(features_matrix >= dim_mean, torch.ones_like(features_matrix), torch.zeros_like(features_matrix))"
   ]
  },
  {
   "cell_type": "code",
   "execution_count": null,
   "metadata": {},
   "outputs": [],
   "source": [
    "features_matrix = None"
   ]
  },
  {
   "cell_type": "code",
   "execution_count": null,
   "metadata": {},
   "outputs": [],
   "source": [
    "\n",
    "torch.cuda.empty_cache()"
   ]
  },
  {
   "cell_type": "code",
   "execution_count": null,
   "metadata": {},
   "outputs": [],
   "source": [
    "binarized_matrix = binarized_matrix.cpu().numpy()"
   ]
  },
  {
   "cell_type": "code",
   "execution_count": null,
   "metadata": {},
   "outputs": [],
   "source": []
  }
 ],
 "metadata": {
  "kernelspec": {
   "display_name": "ffcv",
   "language": "python",
   "name": "python3"
  },
  "language_info": {
   "codemirror_mode": {
    "name": "ipython",
    "version": 3
   },
   "file_extension": ".py",
   "mimetype": "text/x-python",
   "name": "python",
   "nbconvert_exporter": "python",
   "pygments_lexer": "ipython3",
   "version": "3.9.16"
  }
 },
 "nbformat": 4,
 "nbformat_minor": 2
}
